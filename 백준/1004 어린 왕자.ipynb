{
 "cells": [
  {
   "cell_type": "markdown",
   "metadata": {},
   "source": [
    "# 어린 왕자\n",
    "\n",
    "\n",
    "## 문제\n",
    "어린 왕자는 소혹성 B-664에서 자신이 사랑하는 한 송이 장미를 위해 살아간다. 어느 날 장미가 위험에 빠지게 된 것을 알게 된 어린 왕자는, 장미를 구하기 위해 은하수를 따라 긴 여행을 하기 시작했다. 하지만 어린 왕자의 우주선은 그렇게 좋지 않아서 행성계 간의 이동을 최대한 피해서 여행해야 한다. 아래의 그림은 어린 왕자가 펼쳐본 은하수 지도의 일부이다.\n",
    "\n",
    "![](https://onlinejudgeimages.s3-ap-northeast-1.amazonaws.com/upload/201003/dfcmhrjj_113gw6bcng2_b.gif)\n",
    "\n",
    "빨간 실선은 어린 왕자가 출발점에서 도착점까지 도달하는데 있어서 필요한 행성계 진입/이탈 횟수를 최소화하는 경로이며, 원은 행성계의 경계를 의미한다. 이러한 경로는 여러 개 존재할 수 있지만 적어도 3번의 행성계 진입/이탈이 필요하다는 것을 알 수 있다.\n",
    "\n",
    "위와 같은 은하수 지도, 출발점, 도착점이 주어졌을 때 어린 왕자에게 필요한 최소의 행성계 진입/이탈 횟수를 구하는 프로그램을 작성해 보자. (행성계의 경계가 맞닿거나 서로 교차하는 경우는 없다고 가정한다. 또한, 출발점이나 도착점이 행성계 경계에 걸쳐진 경우 역시 입력으로 주어지지 않는다.)\n",
    "\n",
    "## 입력\n",
    "입력의 첫 줄에는 테스트 케이스의 개수 T가 주어진다. 그 다음 줄부터 각각의 테스트케이스에 대해 첫째 줄에 출발점 (x1, y1)과 도착점 (x2, y2)이 주어진다. 두 번째 줄에는 행성계의 개수 n이 주어지며, 세 번째 줄부터 n줄에 걸쳐 행성계의 중점과 반지름 (cx, cy, r)이 주어진다. 입력제한은 다음과 같다. (-1000 ≤ x1, y1, x2, y2, cx, cy ≤ 1000, 1 ≤ r ≤ 1000, 1 ≤ n ≤ 50)\n",
    "\n",
    "좌표와 반지름은 모두 정수이다.\n",
    "\n",
    "## 출력\n",
    "각 테스트 케이스에 대해 어린 왕자가 거쳐야 할 최소의 행성계 진입/이탈 횟수를 출력한다.\n",
    "\n",
    "## 예제 입력 1 \n",
    "2  \n",
    "-5 1 12 1  \n",
    "7  \n",
    "1 1 8  \n",
    "-3 -1 1  \n",
    "2 2 2  \n",
    "5 5 1  \n",
    "-4 5 1  \n",
    "12 1 1  \n",
    "12 1 2  \n",
    "-5 1 5 1  \n",
    "1  \n",
    "0 0 2  \n",
    "## 예제 출력 1 \n",
    "3  \n",
    "0  \n",
    "\n",
    "## 해결 방법\n",
    "시작점 끝점이 행성 범위에 있는지 없는지 유무에 따라 집입/이탈 횟수를 구한다.\n",
    "\n",
    "1) 카운트 없음  :시작점과 끝점이 둘다 범위에 있을때와 없을때  \n",
    "2) 카운트 함 +1 :시작점과 끝점 둘 중 하나만 범위에 있을때\n",
    "r"
   ]
  },
  {
   "cell_type": "code",
   "execution_count": null,
   "metadata": {
    "scrolled": false
   },
   "outputs": [],
   "source": [
    "def inPlanet(planet, start, end):\n",
    "    r = planet[2] ** 2\n",
    "    \n",
    "    return (r >= distance(planet, start)) ^ (r >= distance(planet, end))\n",
    "\n",
    "def distance(planet, point):    \n",
    "    return (point[0] - planet[0]) ** 2  + (point[1] - planet[1]) ** 2\n",
    "    \n",
    "testCase = int(input())\n",
    "result   = []\n",
    "\n",
    "\n",
    "for i in range(testCase):\n",
    "    route = [int(el) for el in input().split()]\n",
    "    \n",
    "    planets = int(input())\n",
    "    count  = 0\n",
    "    \n",
    "    for j in range(planets):\n",
    "        planet = [int(el) for el in input().split()]\n",
    "        \n",
    "        if inPlanet(planet, route[:2], route[2:]):\n",
    "            count += 1\n",
    "    \n",
    "    result.append(str(count))\n",
    "\n",
    "print('\\n'.join(result))"
   ]
  },
  {
   "cell_type": "code",
   "execution_count": 70,
   "metadata": {
    "scrolled": true
   },
   "outputs": [
    {
     "name": "stdout",
     "output_type": "stream",
     "text": [
      "[1, 1, 8] [-5, 1, 12, 1]\n",
      "[12, 1, 1] [-5, 1, 12, 1]\n",
      "[12, 1, 2] [-5, 1, 12, 1]\n",
      "3\n"
     ]
    }
   ],
   "source": [
    "def inPlanet(planet, start, end):\n",
    "    r = planet[2] ** 2\n",
    "    \n",
    "    temp = [r]\n",
    "    temp.append(distance(planet, start))\n",
    "    temp.append(distance(planet, end))\n",
    "    \n",
    "    temp.sort()\n",
    "    \n",
    "    return r == temp[1]\n",
    "    \n",
    "\n",
    "def distance(planet, point):    \n",
    "    return (point[0] - planet[0]) ** 2  + (point[1] - planet[1]) ** 2\n",
    "\n",
    "a = [-5, 1, 12, 1]\n",
    "b = [[1, 1, 8],\n",
    "[-3, -1, 1],\n",
    "[2, 2, 2],\n",
    "[5, 5, 1],\n",
    "[-4, 5, 1],\n",
    "[12, 1, 1],\n",
    "[12, 1, 2]]\n",
    "\n",
    "count = 0\n",
    "for j in b:\n",
    "    \n",
    "    if inPlanet(j, a[:2], a[2:]):\n",
    "        print(j, a)\n",
    "        count += 1\n",
    "    \n",
    "print(count)\n"
   ]
  }
 ],
 "metadata": {
  "kernelspec": {
   "display_name": "Python 3",
   "language": "python",
   "name": "python3"
  },
  "language_info": {
   "codemirror_mode": {
    "name": "ipython",
    "version": 3
   },
   "file_extension": ".py",
   "mimetype": "text/x-python",
   "name": "python",
   "nbconvert_exporter": "python",
   "pygments_lexer": "ipython3",
   "version": "3.6.7"
  },
  "toc": {
   "base_numbering": 1,
   "nav_menu": {},
   "number_sections": true,
   "sideBar": true,
   "skip_h1_title": false,
   "title_cell": "Table of Contents",
   "title_sidebar": "Contents",
   "toc_cell": false,
   "toc_position": {},
   "toc_section_display": true,
   "toc_window_display": false
  },
  "varInspector": {
   "cols": {
    "lenName": 16,
    "lenType": 16,
    "lenVar": 40
   },
   "kernels_config": {
    "python": {
     "delete_cmd_postfix": "",
     "delete_cmd_prefix": "del ",
     "library": "var_list.py",
     "varRefreshCmd": "print(var_dic_list())"
    },
    "r": {
     "delete_cmd_postfix": ") ",
     "delete_cmd_prefix": "rm(",
     "library": "var_list.r",
     "varRefreshCmd": "cat(var_dic_list()) "
    }
   },
   "types_to_exclude": [
    "module",
    "function",
    "builtin_function_or_method",
    "instance",
    "_Feature"
   ],
   "window_display": false
  }
 },
 "nbformat": 4,
 "nbformat_minor": 2
}
