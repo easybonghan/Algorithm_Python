{
 "cells": [
  {
   "cell_type": "markdown",
   "metadata": {},
   "source": [
    "# [ACM Craft](https://www.acmicpc.net/problem/1005)\n",
    "\n",
    "## 문제\n",
    "서기 2012년! 드디어 2년간 수많은 국민들을 기다리게 한 게임 ACM Craft (Association of Construction Manager Craft)가 발매되었다.\n",
    "\n",
    "이 게임은 지금까지 나온 게임들과는 다르게 ACM크래프트는 다이나믹한 게임 진행을 위해 건물을 짓는 순서가 정해져 있지 않다. 즉, 첫 번째 게임과 두 번째 게임이 건물을 짓는 순서가 다를 수도 있다. 매 게임시작 시 건물을 짓는 순서가 주어진다. 또한 모든 건물은 각각 건설을 시작하여 완성이 될 때까지 Delay가 존재한다.\n",
    "\n",
    "![](https://www.acmicpc.net/upload/201003/star.JPG)\n",
    "\n",
    "\n",
    "위의 예시를 보자.\n",
    "\n",
    "이번 게임에서는 다음과 같이 건설 순서 규칙이 주어졌다. 1번 건물의 건설이 완료된다면 2번과 3번의 건설을 시작할수 있다. (동시에 진행이 가능하다) 그리고 4번 건물을 짓기 위해서는 2번과 3번 건물이 모두 건설 완료되어야지만 4번건물의 건설을 시작할수 있다.\n",
    "\n",
    "따라서 4번건물의 건설을 완료하기 위해서는 우선 처음 1번 건물을 건설하는데 10초가 소요된다. 그리고 2번 건물과 3번 건물을 동시에 건설하기 시작하면 2번은 1초뒤에 건설이 완료되지만 아직 3번 건물이 완료되지 않았으므로 4번 건물을 건설할 수 없다. 3번 건물이 완성되고 나면 그때 4번 건물을 지을수 있으므로 4번 건물이 완성되기까지는 총 120초가 소요된다.\n",
    "\n",
    "프로게이머 최백준은 애인과의 데이트 비용을 마련하기 위해 서강대학교배 ACM크래프트 대회에 참가했다! 최백준은 화려한 컨트롤 실력을 가지고 있기 때문에 모든 경기에서 특정 건물만 짓는다면 무조건 게임에서 이길 수 있다. 그러나 매 게임마다 특정건물을 짓기 위한 순서가 달라지므로 최백준은 좌절하고 있었다. 백준이를 위해 특정건물을 가장 빨리 지을 때까지 걸리는 최소시간을 알아내는 프로그램을 작성해주자.\n",
    "\n",
    " \n",
    "\n",
    "## 입력\n",
    "첫째 줄에는 테스트케이스의 개수 T가 주어진다. 각 테스트 케이스는 다음과 같이 주어진다. 첫째 줄에 건물의 개수 N 과 건물간의 건설순서규칙의 총 개수 K이 주어진다. (건물의 번호는 1번부터 N번까지 존재한다) \n",
    "\n",
    "둘째 줄에는 각 건물당 건설에 걸리는 시간 D가 공백을 사이로 주어진다. 셋째 줄부터 K+2줄까지 건설순서 X Y가 주어진다. (이는 건물 X를 지은 다음에 건물 Y를 짓는 것이 가능하다는 의미이다) \n",
    "\n",
    "마지막 줄에는 백준이가 승리하기 위해 건설해야 할 건물의 번호 W가 주어진다. (1 ≤ N ≤ 1000, 1 ≤ K ≤ 100000 , 1≤ X,Y,W ≤ N, 0 ≤ D ≤ 100000)\n",
    "\n",
    "## 출력\n",
    "건물 W를 건설완료 하는데 드는 최소 시간을 출력한다. 편의상 건물을 짓는 명령을 내리는 데는 시간이 소요되지 않는다고 가정한다.\n",
    "\n",
    "모든 건물을 지을 수 없는 경우는 없다.\n",
    "\n",
    "## 예제 입력 1 \n",
    "2  \n",
    "4 4  \n",
    "10 1 100 10  \n",
    "1 2  \n",
    "1 3  \n",
    "2 4  \n",
    "3 4  \n",
    "4  \n",
    "8 8  \n",
    "10 20 1 5 8 7 1 43  \n",
    "1 2  \n",
    "1 3  \n",
    "2 4  \n",
    "2 5  \n",
    "3 6  \n",
    "5 7  \n",
    "6 7  \n",
    "7 8  \n",
    "7  \n",
    "## 예제 출력 1 \n",
    "120  \n",
    "39"
   ]
  },
  {
   "cell_type": "code",
   "execution_count": null,
   "metadata": {},
   "outputs": [],
   "source": []
  },
  {
   "cell_type": "code",
   "execution_count": 4,
   "metadata": {},
   "outputs": [
    {
     "name": "stdout",
     "output_type": "stream",
     "text": [
      "\n",
      "위상정렬:\n",
      "[1, 2, 3, 4, 0]\n"
     ]
    }
   ],
   "source": [
    "adj_list = [[], [2, 3], [3], [4], [] ]  \n",
    "N        = len(adj_list) # 그래프 정점 수\n",
    "visited  = [False for x in range(N+1)] # 방문되면 True로\n",
    "s        = []\n",
    "\n",
    "target = 4\n",
    "\n",
    "def dfs(v):\n",
    "    visited[v] = True  # 정점 v 방문\n",
    "    \n",
    "    for w in adj_list[v]: # 정점 v에 인접한 각 정점에 대해\n",
    "        if not visited[w]:\n",
    "            dfs(w)  # v에 인접한 방문 안된 정점 재귀호출\n",
    "    \n",
    "    s.append(v) # i에서 진출하는 간선이 더 이상 없으므로 i를 s에 추가 \n",
    "\n",
    "for i in range(target):\n",
    "    if not visited[i]:\n",
    "        dfs(i)\n",
    "s.reverse()\n",
    "\n",
    "print('\\n위상정렬:')\n",
    "print(s)"
   ]
  },
  {
   "cell_type": "code",
   "execution_count": 193,
   "metadata": {},
   "outputs": [
    {
     "name": "stdout",
     "output_type": "stream",
     "text": [
      "\n",
      "위상정렬:\n",
      "[1, 3, 6, 2, 5, 7, 8, 4]\n"
     ]
    }
   ],
   "source": [
    "adj_list = [[],\n",
    "            [2, 3],\n",
    "            [4, 5],\n",
    "            [6],\n",
    "            [],\n",
    "            [7],\n",
    "            [7],\n",
    "            [8],\n",
    "            []]\n",
    "\n",
    "N        = len(adj_list) # 그래프 정점 수\n",
    "visited  = [False for x in range(N+1)] # 방문되면 True로\n",
    "s        = []\n",
    "\n",
    "def dfs(v):\n",
    "    visited[v] = True  # 정점 v 방문\n",
    "\n",
    "    for w in adj_list[v]: # 정점 v에 인접한 각 정점에 대해\n",
    "        if not visited[w]:\n",
    "            dfs(w)  # v에 인접한 방문 안된 정점 재귀호출\n",
    "    \n",
    "    s.append(v) # i에서 진출하는 간선이 더 이상 없으므로 i를 s에 c추가 \n",
    "\n",
    "for i in range(1, N):\n",
    "    if not visited[i]:\n",
    "        dfs(i)\n",
    "\n",
    "s.reverse()\n",
    "\n",
    "print('\\n위상정렬:')\n",
    "print(s)"
   ]
  },
  {
   "cell_type": "code",
   "execution_count": 214,
   "metadata": {},
   "outputs": [
    {
     "name": "stdout",
     "output_type": "stream",
     "text": [
      "[]\n",
      "4 0\n",
      "[0]\n",
      "3 10\n",
      "[10]\n",
      "2 20\n",
      "[20, 100]\n",
      "110\n",
      "\n",
      "위상정렬:\n",
      "[1, 2, 3, 4]\n"
     ]
    }
   ],
   "source": [
    "adj_list = [[], [2, 3], [3], [4], [] ]  \n",
    "N        = len(adj_list) # 그래프 정점 수\n",
    "visited  = [False for x in range(N+1)] # 방문되면 True로\n",
    "s        = []\n",
    "weight   = [0, 10, 1, 100, 10]\n",
    "\n",
    "\n",
    "\n",
    "def dfs(v, g):\n",
    "    visited[v] = True  # 정점 v 방문\n",
    " \n",
    "    temp = []\n",
    "    for w in adj_list[v]: # 정점 v에 인접한 각 정점에 대해\n",
    "        value = weight[w];\n",
    "        \n",
    "        if not visited[w]: \n",
    "            value = dfs(w, g)  # v에 인접한 방문 안된 정점 재귀호출\n",
    "            print(w, value)\n",
    "        \n",
    "        temp.append(value)\n",
    "        \n",
    "    \n",
    "    s.append(v) # i에서 진출하는 간선이 더 이상 없으므로 i를 s에 추가 \n",
    "    print(temp)\n",
    "    \n",
    "    return g + max(temp) if temp else 0\n",
    "\n",
    "for i in range(1, N):\n",
    "    if not visited[i]:\n",
    "        value = dfs(i, weight[i])\n",
    "    \n",
    "print(value)\n",
    "        \n",
    "s.reverse()\n",
    "\n",
    "print('\\n위상정렬:')\n",
    "print(s)"
   ]
  },
  {
   "cell_type": "code",
   "execution_count": null,
   "metadata": {},
   "outputs": [],
   "source": [
    "adj_list = [[], [2, 3], [4], [4], [] ]  \n",
    "N        = len(adj_list) # 그래프 정점 수\n",
    "visited  = [False for x in range(N+1)] # 방문되면 True로\n",
    "s        = []\n",
    "weight   = [0, 10, 1, 100, 10]\n",
    "\n",
    "\n",
    "\n",
    "def dfs(v, g):\n",
    "    visited[v] = True  # 정점 v 방문\n",
    " \n",
    "    temp = []\n",
    "    temp2 = [weight[x] for x in adj_list[v]]\n",
    "    gg = max( temp2 if temp2 else [0])\n",
    "\n",
    "    for w in adj_list[v]: # 정점 v에 인접한 각 정점에 대해\n",
    "        print(g, gg)\n",
    "        value = g + gg\n",
    "        if not visited[w]: \n",
    "            value = dfs(w, g + gg)  # v에 인접한 방문 안된 정점 재귀호출\n",
    "        \n",
    "        temp.append(value)\n",
    "        \n",
    "    \n",
    "    s.append(v) # i에서 진출하는 간선이 더 이상 없으므로 i를 s에 추가 \n",
    "    \n",
    "    return max(temp) if temp else g\n",
    "\n",
    "for i in range(1, N):\n",
    "    if not visited[i]:\n",
    "        value = dfs(i, weight[i])\n",
    "    \n",
    "print(value)\n",
    "        \n",
    "s.reverse()\n",
    "\n",
    "print('\\n위상정렬:')\n",
    "print(s)"
   ]
  },
  {
   "cell_type": "code",
   "execution_count": 1,
   "metadata": {},
   "outputs": [
    {
     "name": "stdout",
     "output_type": "stream",
     "text": [
      "39\n",
      "\n",
      "위상정렬:\n",
      "[1, 3, 6, 2, 5, 4]\n"
     ]
    }
   ],
   "source": [
    "adj_list = [[],\n",
    "            [2, 3],\n",
    "            [4, 5],\n",
    "            [6],\n",
    "            [],\n",
    "            [7],\n",
    "            [7],\n",
    "            [8],\n",
    "            []]\n",
    "N        = len(adj_list) # 그래프 정점 수\n",
    "visited  = [False for x in range(N+1)] # 방문되면 True로\n",
    "s        = []\n",
    "weight   = [0, 10, 20, 1, 5, 8, 7, 1, 42, 0 ]\n",
    "\n",
    "target   = 7\n",
    "\n",
    "\n",
    "\n",
    "def dfs(v, g):\n",
    "    visited[v] = True  # 정점 v 방문\n",
    " \n",
    "    temp = []\n",
    "    temp2 = [weight[x] for x in adj_list[v]]\n",
    "\n",
    "    for w in adj_list[v]: # 정점 v에 인접한 각 정점에 대해\n",
    "        value = g + weight[w]\n",
    "\n",
    "        if w >= target:\n",
    "            visited[v] = True\n",
    "            temp.append(value)\n",
    "            s.append(v)\n",
    "            return max(temp) if temp else g\n",
    "        \n",
    "\n",
    "        if not visited[w] : \n",
    "            value = dfs(w, value)  # v에 인접한 방문 안된 정점 재귀호출\n",
    "                    \n",
    "        temp.append(value)\n",
    "        \n",
    "    s.append(v) # i에서 진출하는 간선이 더 이상 없으므로 i를 s에 추가 \n",
    "\n",
    "    return max(temp) if temp else g\n",
    "\n",
    "for i in range(1, target):\n",
    "    if not visited[i]:\n",
    "        value = dfs(i, weight[i])\n",
    "        print(value)\n",
    "        \n",
    "s.reverse()\n",
    "\n",
    "print('\\n위상정렬:')\n",
    "print(s)"
   ]
  },
  {
   "cell_type": "code",
   "execution_count": 2,
   "metadata": {},
   "outputs": [
    {
     "name": "stdout",
     "output_type": "stream",
     "text": [
      "120\n",
      "\n",
      "위상정렬:\n",
      "[2, 3, 1]\n"
     ]
    }
   ],
   "source": [
    "adj_list = [[], [2, 3], [4], [4], [] ]  \n",
    "N        = len(adj_list) # 그래프 정점 수\n",
    "visited  = [False for x in range(N+1)] # 방문되면 True로\n",
    "s        = []\n",
    "weight   = [0, 10, 1, 100, 10]\n",
    "\n",
    "\n",
    "target   = 4\n",
    "\n",
    "\n",
    "\n",
    "def dfs(v, g):\n",
    "    visited[v] = True  # 정점 v 방문\n",
    " \n",
    "    temp = []\n",
    "    temp2 = [weight[x] for x in adj_list[v]]\n",
    "\n",
    "    for w in adj_list[v]: # 정점 v에 인접한 각 정점에 대해\n",
    "        value = g + weight[w]\n",
    "\n",
    "        if w >= target:\n",
    "            visited[v] = True\n",
    "            temp.append(value)\n",
    "            s.append(v)\n",
    "            return max(temp) if temp else g\n",
    "        \n",
    "\n",
    "        if not visited[w] : \n",
    "            value = dfs(w, value)  # v에 인접한 방문 안된 정점 재귀호출\n",
    "                    \n",
    "        temp.append(value)\n",
    "        \n",
    "    s.append(v) # i에서 진출하는 간선이 더 이상 없으므로 i를 s에 추가 \n",
    "\n",
    "    return max(temp) if temp else g\n",
    "\n",
    "for i in range(1, target):\n",
    "    if not visited[i]:\n",
    "        value = dfs(i, weight[i])\n",
    "        print(value)\n",
    "\n",
    "print('\\n위상정렬:')\n",
    "print(s)"
   ]
  },
  {
   "cell_type": "code",
   "execution_count": 3,
   "metadata": {},
   "outputs": [
    {
     "name": "stdout",
     "output_type": "stream",
     "text": [
      "\n"
     ]
    }
   ],
   "source": [
    "weight = list(map(lambda x:int(x),input().split()))\n",
    "\n",
    "weight.insert(0, 0)\n",
    "weight.append(0)\n",
    "\n",
    "adj_list = [[], [2, 3], [4], [4], [] ]  \n",
    "N        = len(adj_list) # 그래프 정점 수\n",
    "visited  = [False for x in range(N+1)] # 방문되면 True로\n",
    "s        = []\n",
    "weight   = [0, 10, 1, 100, 10]\n",
    "\n",
    "\n",
    "target   = weight"
   ]
  },
  {
   "cell_type": "code",
   "execution_count": 16,
   "metadata": {},
   "outputs": [
    {
     "name": "stdout",
     "output_type": "stream",
     "text": [
      "\n"
     ]
    },
    {
     "ename": "ValueError",
     "evalue": "invalid literal for int() with base 10: ''",
     "output_type": "error",
     "traceback": [
      "\u001b[0;31m---------------------------------------------------------------------------\u001b[0m",
      "\u001b[0;31mValueError\u001b[0m                                Traceback (most recent call last)",
      "\u001b[0;32m<ipython-input-16-ecadbd19b20c>\u001b[0m in \u001b[0;36m<module>\u001b[0;34m\u001b[0m\n\u001b[1;32m     31\u001b[0m \u001b[0mtarget\u001b[0m   \u001b[0;34m=\u001b[0m \u001b[0;36m0\u001b[0m\u001b[0;34m\u001b[0m\u001b[0;34m\u001b[0m\u001b[0m\n\u001b[1;32m     32\u001b[0m \u001b[0;34m\u001b[0m\u001b[0m\n\u001b[0;32m---> 33\u001b[0;31m \u001b[0mtestCases\u001b[0m \u001b[0;34m=\u001b[0m \u001b[0mint\u001b[0m\u001b[0;34m(\u001b[0m\u001b[0minput\u001b[0m\u001b[0;34m(\u001b[0m\u001b[0;34m)\u001b[0m\u001b[0;34m)\u001b[0m\u001b[0;34m\u001b[0m\u001b[0;34m\u001b[0m\u001b[0m\n\u001b[0m\u001b[1;32m     34\u001b[0m \u001b[0;34m\u001b[0m\u001b[0m\n\u001b[1;32m     35\u001b[0m \u001b[0;32mfor\u001b[0m \u001b[0mtestCase\u001b[0m \u001b[0;32min\u001b[0m \u001b[0mrange\u001b[0m\u001b[0;34m(\u001b[0m\u001b[0mtestCases\u001b[0m\u001b[0;34m)\u001b[0m\u001b[0;34m:\u001b[0m\u001b[0;34m\u001b[0m\u001b[0;34m\u001b[0m\u001b[0m\n",
      "\u001b[0;31mValueError\u001b[0m: invalid literal for int() with base 10: ''"
     ]
    }
   ],
   "source": [
    "def dfs(v, g):\n",
    "    visited[v] = True  # 정점 v 방문\n",
    " \n",
    "    temp = []\n",
    "    temp2 = [weight[x] for x in adj_list[v]]\n",
    "\n",
    "    for w in adj_list[v]: # 정점 v에 인접한 각 정점에 대해\n",
    "        value = g + weight[w]\n",
    "\n",
    "        if w >= target:\n",
    "            visited[v] = True\n",
    "            temp.append(value)\n",
    "            s.append(v)\n",
    "            return max(temp) if temp else g\n",
    "        \n",
    "\n",
    "        if not visited[w] : \n",
    "            value = dfs(w, value)  # v에 인접한 방문 안된 정점 재귀호출\n",
    "                    \n",
    "        temp.append(value)\n",
    "        \n",
    "    s.append(v) # i에서 진출하는 간선이 더 이상 없으므로 i를 s에 추가 \n",
    "\n",
    "    return max(temp) if temp else g\n",
    "\n",
    "adj_list = [] # [[], [2, 3], [4], [4], [] ]  \n",
    "N        = [] # len(adj_list) # 그래프 정점 수\n",
    "visited  = [] #[False for x in range(N+1)] # 방문되면 True로\n",
    "weight   = []\n",
    "result   = []\n",
    "target   = 0\n",
    "\n",
    "testCases = int(input())\n",
    "\n",
    "for testCase in range(testCases):\n",
    "    buldingCount, rules = map(lambda x:int(x),input().split())\n",
    "    \n",
    "    weight = list(map(lambda x:int(x),input().split()))\n",
    "    weight.insert(0, 0)\n",
    "    weight.append(0)\n",
    "    \n",
    "    N        = buldingCount + 1\n",
    "    visited  = [False for x in range(N + 1)]\n",
    "    s        = []\n",
    "    \n",
    "    adj_list = [[] for x in range(N + 1)]\n",
    "    \n",
    "    for rule in range(1, rules + 1):\n",
    "        row, col = map(lambda x:int(x),input().split())\n",
    "        adj_list[row].append(col)\n",
    "        \n",
    "    target = int(input())\n",
    "        \n",
    "        \n",
    "    for i in range(1, target):\n",
    "        if not visited[i]:\n",
    "            value = dfs(i, weight[i])\n",
    "            result.append(value)\n",
    "\n",
    "for ele in result:\n",
    "    print(ele)"
   ]
  },
  {
   "cell_type": "code",
   "execution_count": 16,
   "metadata": {},
   "outputs": [
    {
     "name": "stdout",
     "output_type": "stream",
     "text": [
      "\n",
      "위상정렬:\n",
      "[1, 3, 6, 2, 5, 7, 4]\n"
     ]
    }
   ],
   "source": [
    "adj_list = [[],\n",
    "            [2, 3],\n",
    "            [4, 5],\n",
    "            [6],\n",
    "            [],\n",
    "            [7],\n",
    "            [7],\n",
    "            [8],\n",
    "            []]\n",
    "\n",
    "weight   = [0, 10, 20, 1, 5, 8, 7, 1, 42]\n",
    "N        = len(adj_list) # 그래프 정점 수\n",
    "visited  = [False] * N\n",
    "s        = []\n",
    "\n",
    "def dfs(v):\n",
    "    visited[v] = True  # 정점 v 방문\n",
    "    \n",
    "    if v == 7:\n",
    "        s.append(v)\n",
    "        return\n",
    "\n",
    "    for w in adj_list[v]: # 정점 v에 인접한 각 정점에 대해\n",
    "        \n",
    "        if not visited[w]:\n",
    "            dfs(w)  # v에 인접한 방문 안된 정점 재귀호출\n",
    "    \n",
    "    s.append(v) # i에서 진출하는 간선이 더 이상 없으므로 i를 s에 c추가 \n",
    "\n",
    "for i in range(1, N):\n",
    "    if i == 7:\n",
    "        break;\n",
    "    if not visited[i]:\n",
    "        dfs(i)\n",
    "\n",
    "s.reverse()\n",
    "\n",
    "print('\\n위상정렬:')\n",
    "print(s)"
   ]
  },
  {
   "cell_type": "code",
   "execution_count": 50,
   "metadata": {},
   "outputs": [
    {
     "name": "stdout",
     "output_type": "stream",
     "text": [
      "39\n"
     ]
    }
   ],
   "source": [
    "adj_list = [[],\n",
    "            [2, 3],\n",
    "            [4, 5],\n",
    "            [6],\n",
    "            [],\n",
    "            [7],\n",
    "            [7],\n",
    "            [8],\n",
    "            []]\n",
    "\n",
    "weight   = [0, 10, 20, 1, 5, 8, 7, 1, 42]\n",
    "N        = len(adj_list) # 그래프 정점 수\n",
    "visited  = [False] * N\n",
    "s        = []\n",
    "\n",
    "result   = [0] * N\n",
    "result[1] = 10\n",
    "\n",
    "def dfs(v):\n",
    "    visited[v] = True  \n",
    "\n",
    "    for w in adj_list[v]:\n",
    "        if result[w] < result[v] + weight[w]:\n",
    "                result[w] = result[v] + weight[w]\n",
    "        if not visited[w]:\n",
    "            dfs(w)\n",
    "\n",
    "dfs(1)\n",
    "print(result[target])\n"
   ]
  },
  {
   "cell_type": "code",
   "execution_count": 47,
   "metadata": {},
   "outputs": [
    {
     "data": {
      "text/plain": [
       "[0, 10, 30, 11, 35, 38, 18, 39, 81]"
      ]
     },
     "execution_count": 47,
     "metadata": {},
     "output_type": "execute_result"
    }
   ],
   "source": [
    "result"
   ]
  },
  {
   "cell_type": "code",
   "execution_count": 26,
   "metadata": {},
   "outputs": [
    {
     "name": "stdout",
     "output_type": "stream",
     "text": [
      "\n",
      "위상정렬:\n",
      "[4, 7, 6, 3, 5, 2, 1]\n"
     ]
    }
   ],
   "source": [
    "#adj_list = [[],\n",
    "#            [2, 3],\n",
    "#            [4, 5],\n",
    "#            [6],\n",
    "#            [],\n",
    "#            [7],\n",
    "#            [7],\n",
    "#            [8],\n",
    "#            []]\n",
    "#\n",
    "adj_list = [\n",
    "            [],\n",
    "            [],\n",
    "            [1],\n",
    "            [1],\n",
    "            [2],\n",
    "            [2],\n",
    "            [3],\n",
    "            [5, 6],\n",
    "            [7]\n",
    "]\n",
    "\n",
    "weight   = [0, 10, 20, 1, 5, 8, 7, 1, 42]\n",
    "N        = len(adj_list) # 그래프 정점 수\n",
    "visited  = [False] * N\n",
    "s        = []\n",
    "\n",
    "def dfs(v):\n",
    "    visited[v] = True  # 정점 v 방문\n",
    "\n",
    "    for w in adj_list[v]: # 정점 v에 인접한 각 정점에 대해\n",
    "        \n",
    "        if not visited[w]:\n",
    "            dfs(w) \n",
    "\n",
    "for i in range(7, 0, -1):\n",
    "    if not visited[i]:\n",
    "        dfs(i)\n",
    "\n",
    "s.reverse()\n",
    "\n",
    "print('\\n위상정렬:')\n",
    "print(s)"
   ]
  },
  {
   "cell_type": "code",
   "execution_count": 60,
   "metadata": {},
   "outputs": [
    {
     "name": "stdout",
     "output_type": "stream",
     "text": [
      "1\n",
      "4 4\n"
     ]
    },
    {
     "ename": "ValueError",
     "evalue": "not enough values to unpack (expected 2, got 0)",
     "output_type": "error",
     "traceback": [
      "\u001b[1;31m---------------------------------------------------------------------------\u001b[0m",
      "\u001b[1;31mValueError\u001b[0m                                Traceback (most recent call last)",
      "\u001b[1;32m<ipython-input-60-98d81d097dc1>\u001b[0m in \u001b[0;36m<module>\u001b[1;34m()\u001b[0m\n\u001b[0;32m     35\u001b[0m \u001b[1;33m\u001b[0m\u001b[0m\n\u001b[0;32m     36\u001b[0m     \u001b[1;32mfor\u001b[0m \u001b[0mrule\u001b[0m \u001b[1;32min\u001b[0m \u001b[0mrange\u001b[0m\u001b[1;33m(\u001b[0m\u001b[1;36m1\u001b[0m\u001b[1;33m,\u001b[0m \u001b[0mrules\u001b[0m \u001b[1;33m+\u001b[0m \u001b[1;36m1\u001b[0m\u001b[1;33m)\u001b[0m\u001b[1;33m:\u001b[0m\u001b[1;33m\u001b[0m\u001b[0m\n\u001b[1;32m---> 37\u001b[1;33m         \u001b[0mrow\u001b[0m\u001b[1;33m,\u001b[0m \u001b[0mcol\u001b[0m \u001b[1;33m=\u001b[0m \u001b[0mmap\u001b[0m\u001b[1;33m(\u001b[0m\u001b[1;32mlambda\u001b[0m \u001b[0mx\u001b[0m\u001b[1;33m:\u001b[0m\u001b[0mint\u001b[0m\u001b[1;33m(\u001b[0m\u001b[0mx\u001b[0m\u001b[1;33m)\u001b[0m\u001b[1;33m,\u001b[0m\u001b[0msys\u001b[0m\u001b[1;33m.\u001b[0m\u001b[0mstdin\u001b[0m\u001b[1;33m.\u001b[0m\u001b[0mreadline\u001b[0m\u001b[1;33m(\u001b[0m\u001b[1;33m)\u001b[0m\u001b[1;33m.\u001b[0m\u001b[0msplit\u001b[0m\u001b[1;33m(\u001b[0m\u001b[1;33m)\u001b[0m\u001b[1;33m)\u001b[0m\u001b[1;33m\u001b[0m\u001b[0m\n\u001b[0m\u001b[0;32m     38\u001b[0m         \u001b[0madj_list\u001b[0m\u001b[1;33m[\u001b[0m\u001b[0mrow\u001b[0m\u001b[1;33m]\u001b[0m\u001b[1;33m.\u001b[0m\u001b[0mappend\u001b[0m\u001b[1;33m(\u001b[0m\u001b[0mcol\u001b[0m\u001b[1;33m)\u001b[0m\u001b[1;33m\u001b[0m\u001b[0m\n\u001b[0;32m     39\u001b[0m \u001b[1;33m\u001b[0m\u001b[0m\n",
      "\u001b[1;31mValueError\u001b[0m: not enough values to unpack (expected 2, got 0)"
     ]
    }
   ],
   "source": [
    "import sys\n",
    "\n",
    "def dfs(v):\n",
    "    visited[v] = True  \n",
    "\n",
    "    for w in adj_list[v]:\n",
    "        if result[w] < result[v] + weight[w]:\n",
    "                result[w] = result[v] + weight[w]\n",
    "        if not visited[w]:\n",
    "            dfs(w)\n",
    "\n",
    "adj_list = [] # [[], [2, 3], [4], [4], [] ]  \n",
    "N        = [] # len(adj_list) # 그래프 정점 수\n",
    "visited  = [] #[False for x in range(N+1)] # 방문되면 True로\n",
    "weight   = []\n",
    "minTime  = []\n",
    "result   = []\n",
    "target   = 0\n",
    "\n",
    "testCases = int(input())\n",
    "\n",
    "for testCase in range(testCases):\n",
    "    buldingCount, rules = map(lambda x:int(x),input().split())\n",
    "    \n",
    "    weight = list(map(lambda x:int(x), sys.stdin.readline().split()))\n",
    "    weight.insert(0, 0)\n",
    "    weight.append(0)\n",
    "    \n",
    "    result = [0] * len(weight)\n",
    "    \n",
    "    N        = buldingCount + 1\n",
    "    visited  = [False] * N\n",
    "    \n",
    "    adj_list = [[] for x in range(N)]\n",
    "    \n",
    "    for rule in range(1, rules + 1):\n",
    "        row, col = map(lambda x:int(x),sys.stdin.readline().split())\n",
    "        adj_list[row].append(col)\n",
    "        \n",
    "    target = int(input())\n",
    "    \n",
    "    result[1] = weight[1]\n",
    "    dfs(1) \n",
    "    minTime.append(result[target])\n",
    "\n",
    "for ele in minTime:\n",
    "    print(ele)"
   ]
  },
  {
   "cell_type": "code",
   "execution_count": 64,
   "metadata": {},
   "outputs": [],
   "source": [
    "def dfs(v):\n",
    "    visited[v] = True  # 정점 v 방문\n",
    "    \n",
    "    for w in adj_list[v]: # 정점 v에 인접한 각 정점에 대해\n",
    "        if not visited[w]:\n",
    "            dfs(w)  # v에 인접한 방문 안된 정점 재귀호출\n",
    "    \n",
    "    s.append(v) # i에서 진출하는 간선이 더 이상 없으므로 i를 s에 추가 \n",
    "\n",
    "for i in range(target):\n",
    "    if not visited[i]:\n",
    "        dfs(i)\n",
    "s.reverse()"
   ]
  },
  {
   "cell_type": "code",
   "execution_count": 60,
   "metadata": {
    "scrolled": true
   },
   "outputs": [
    {
     "name": "stdout",
     "output_type": "stream",
     "text": [
      "1\n",
      "4 4\n"
     ]
    },
    {
     "ename": "ValueError",
     "evalue": "not enough values to unpack (expected 2, got 0)",
     "output_type": "error",
     "traceback": [
      "\u001b[1;31m---------------------------------------------------------------------------\u001b[0m",
      "\u001b[1;31mValueError\u001b[0m                                Traceback (most recent call last)",
      "\u001b[1;32m<ipython-input-60-98d81d097dc1>\u001b[0m in \u001b[0;36m<module>\u001b[1;34m()\u001b[0m\n\u001b[0;32m     35\u001b[0m \u001b[1;33m\u001b[0m\u001b[0m\n\u001b[0;32m     36\u001b[0m     \u001b[1;32mfor\u001b[0m \u001b[0mrule\u001b[0m \u001b[1;32min\u001b[0m \u001b[0mrange\u001b[0m\u001b[1;33m(\u001b[0m\u001b[1;36m1\u001b[0m\u001b[1;33m,\u001b[0m \u001b[0mrules\u001b[0m \u001b[1;33m+\u001b[0m \u001b[1;36m1\u001b[0m\u001b[1;33m)\u001b[0m\u001b[1;33m:\u001b[0m\u001b[1;33m\u001b[0m\u001b[0m\n\u001b[1;32m---> 37\u001b[1;33m         \u001b[0mrow\u001b[0m\u001b[1;33m,\u001b[0m \u001b[0mcol\u001b[0m \u001b[1;33m=\u001b[0m \u001b[0mmap\u001b[0m\u001b[1;33m(\u001b[0m\u001b[1;32mlambda\u001b[0m \u001b[0mx\u001b[0m\u001b[1;33m:\u001b[0m\u001b[0mint\u001b[0m\u001b[1;33m(\u001b[0m\u001b[0mx\u001b[0m\u001b[1;33m)\u001b[0m\u001b[1;33m,\u001b[0m\u001b[0msys\u001b[0m\u001b[1;33m.\u001b[0m\u001b[0mstdin\u001b[0m\u001b[1;33m.\u001b[0m\u001b[0mreadline\u001b[0m\u001b[1;33m(\u001b[0m\u001b[1;33m)\u001b[0m\u001b[1;33m.\u001b[0m\u001b[0msplit\u001b[0m\u001b[1;33m(\u001b[0m\u001b[1;33m)\u001b[0m\u001b[1;33m)\u001b[0m\u001b[1;33m\u001b[0m\u001b[0m\n\u001b[0m\u001b[0;32m     38\u001b[0m         \u001b[0madj_list\u001b[0m\u001b[1;33m[\u001b[0m\u001b[0mrow\u001b[0m\u001b[1;33m]\u001b[0m\u001b[1;33m.\u001b[0m\u001b[0mappend\u001b[0m\u001b[1;33m(\u001b[0m\u001b[0mcol\u001b[0m\u001b[1;33m)\u001b[0m\u001b[1;33m\u001b[0m\u001b[0m\n\u001b[0;32m     39\u001b[0m \u001b[1;33m\u001b[0m\u001b[0m\n",
      "\u001b[1;31mValueError\u001b[0m: not enough values to unpack (expected 2, got 0)"
     ]
    }
   ],
   "source": [
    "import sys\n",
    "\n",
    "def dfs(v):\n",
    "    visited[v] = True  \n",
    "\n",
    "    for w in adj_list[v]:\n",
    "        if result[w] < result[v] + weight[w]:\n",
    "                result[w] = result[v] + weight[w]\n",
    "        if not visited[w]:\n",
    "            dfs(w)\n",
    "            \n",
    "    \n",
    "\n",
    "adj_list = [] # [[], [2, 3], [4], [4], [] ]  \n",
    "N        = [] # len(adj_list) # 그래프 정점 수\n",
    "visited  = [] #[False for x in range(N+1)] # 방문되면 True로\n",
    "weight   = []\n",
    "minTime  = []\n",
    "result   = []\n",
    "target   = 0\n",
    "\n",
    "\n",
    "\n",
    "testCases = int(input())\n",
    "\n",
    "for testCase in range(testCases):\n",
    "    buldingCount, rules = map(lambda x:int(x),input().split())\n",
    "    \n",
    "    weight = list(map(lambda x:int(x), sys.stdin.readline().split()))\n",
    "    weight.insert(0, 0)\n",
    "    weight.append(0)\n",
    "    \n",
    "    result = [0] * len(weight)\n",
    "    \n",
    "    N        = buldingCount + 1\n",
    "    visited  = [False] * N\n",
    "    \n",
    "    adj_list = [[] for x in range(N)]\n",
    "    \n",
    "    for rule in range(1, rules + 1):\n",
    "        row, col = map(lambda x:int(x),sys.stdin.readline().split())\n",
    "        adj_list[col].append(row)\n",
    "        \n",
    "    target = int(input())\n",
    "    \n",
    "    result[target] = weight[target]\n",
    "    dfs(target) \n",
    "    minTime.append(result[target])\n",
    "\n",
    "for ele in minTime:\n",
    "    print(ele)"
   ]
  },
  {
   "cell_type": "code",
   "execution_count": null,
   "metadata": {},
   "outputs": [],
   "source": [
    "1\n",
    "2 1\n",
    "1 1\n",
    "2 1\n",
    "1"
   ]
  }
 ],
 "metadata": {
  "kernelspec": {
   "display_name": "Python 3",
   "language": "python",
   "name": "python3"
  },
  "language_info": {
   "codemirror_mode": {
    "name": "ipython",
    "version": 3
   },
   "file_extension": ".py",
   "mimetype": "text/x-python",
   "name": "python",
   "nbconvert_exporter": "python",
   "pygments_lexer": "ipython3",
   "version": "3.6.6"
  },
  "toc": {
   "base_numbering": 1,
   "nav_menu": {},
   "number_sections": true,
   "sideBar": true,
   "skip_h1_title": false,
   "title_cell": "Table of Contents",
   "title_sidebar": "Contents",
   "toc_cell": false,
   "toc_position": {
    "height": "calc(100% - 180px)",
    "left": "10px",
    "top": "150px",
    "width": "192.344px"
   },
   "toc_section_display": true,
   "toc_window_display": true
  },
  "varInspector": {
   "cols": {
    "lenName": 16,
    "lenType": 16,
    "lenVar": 40
   },
   "kernels_config": {
    "python": {
     "delete_cmd_postfix": "",
     "delete_cmd_prefix": "del ",
     "library": "var_list.py",
     "varRefreshCmd": "print(var_dic_list())"
    },
    "r": {
     "delete_cmd_postfix": ") ",
     "delete_cmd_prefix": "rm(",
     "library": "var_list.r",
     "varRefreshCmd": "cat(var_dic_list()) "
    }
   },
   "position": {
    "height": "415.881px",
    "left": "805.455px",
    "right": "20px",
    "top": "120px",
    "width": "350px"
   },
   "types_to_exclude": [
    "module",
    "function",
    "builtin_function_or_method",
    "instance",
    "_Feature"
   ],
   "window_display": false
  }
 },
 "nbformat": 4,
 "nbformat_minor": 2
}
