{
 "cells": [
  {
   "cell_type": "markdown",
   "metadata": {},
   "source": [
    "# 스택 수열\n",
    "\n",
    "## 문제\n",
    "스택 (stack)은 기본적인 자료구조 중 하나로, 컴퓨터 프로그램을 작성할 때 자주 이용되는 개념이다. 스택은 자료를 넣는 (push) 입구와 자료를 뽑는 (pop) 입구가 같아 제일 먼저 들어간 자료가 제일 나중에 나오는 (FILO, first in last out) 특성을 가지고 있다.\n",
    "\n",
    "1부터 n까지의 수를 스택에 넣었다가 뽑아 늘어놓음으로써, 하나의 수열을 만들 수 있다. 이때, 스택에 push하는 순서는 반드시 오름차순을 지키도록 한다고 하자. 임의의 수열이 주어졌을 때 스택을 이용해 그 수열을 만들 수 있는지 없는지, 있다면 어떤 순서로 push와 pop 연산을 수행해야 하는지를 알아낼 수 있다. 이를 계산하는 프로그램을 작성하라.\n",
    "\n",
    "## 입력\n",
    "첫 줄에 n (1 ≤ n ≤ 100,000)이 주어진다. 둘째 줄부터 n개의 줄에는 수열을 이루는 1이상 n이하의 정수가 하나씩 순서대로 주어진다. 물론 같은 정수가 두 번 나오는 일은 없다.\n",
    "\n",
    "## 출력\n",
    "입력된 수열을 만들기 위해 필요한 연산을 한 줄에 한 개씩 출력한다. push연산은 +로, pop 연산은 -로 표현하도록 한다. 불가능한 경우 NO를 출력한다.\n",
    "\n",
    "### 예제 입력 1 \n",
    "~~~c\n",
    "8\n",
    "4\n",
    "3\n",
    "6\n",
    "8\n",
    "7\n",
    "5\n",
    "2\n",
    "1\n",
    "~~~\n",
    "\n",
    "### 예제 출력 1 \n",
    "~~~c\n",
    "+\n",
    "+\n",
    "+\n",
    "+\n",
    "-\n",
    "-\n",
    "+\n",
    "+\n",
    "-\n",
    "+\n",
    "+\n",
    "-\n",
    "-\n",
    "-\n",
    "-\n",
    "-\n",
    "~~~ \n",
    "\n",
    "### 예제 입력 2 \n",
    "~~~C\n",
    "5\n",
    "1\n",
    "2\n",
    "5\n",
    "3\n",
    "4\n",
    "~~~\n",
    "\n",
    "### 예제 출력 2 \n",
    "NO\n",
    "힌트\n",
    "1부터 n까지에 수에 대해 차례로 [push, push, push, push, pop, pop, push, push, pop, push, push, pop, pop, pop, pop, pop] 연산을 수행하면 수열 [4, 3, 6, 8, 7, 5, 2, 1]을 얻을 수 있다."
   ]
  },
  {
   "cell_type": "code",
   "execution_count": 35,
   "metadata": {},
   "outputs": [
    {
     "name": "stdout",
     "output_type": "stream",
     "text": [
      "8\n",
      "4\n",
      "3\n",
      "6\n",
      "8\n",
      "7\n",
      "5\n",
      "2\n",
      "1\n",
      "NO\n"
     ]
    }
   ],
   "source": [
    "number = int(input())\n",
    "\n",
    "temp   = []\n",
    "stack  = []\n",
    "excute = []\n",
    "\n",
    "for x in range(number):\n",
    "    stack.append(int(input()))\n",
    "    \n",
    "\n",
    "findNumber = stack.pop(0)\n",
    "\n",
    "for x in range(1, number + 1):\n",
    "    temp.append(x)       \n",
    "    excute.append('+')\n",
    "        \n",
    "    if x is findNumber and temp and findNumber < x:\n",
    "        excute.append('-')\n",
    "        temp.pop()\n",
    "        \n",
    "        findNumber = stack.pop(0)\n",
    "    \n",
    "print('\\n'.join(excute) if not temp else 'NO')"
   ]
  },
  {
   "cell_type": "code",
   "execution_count": 58,
   "metadata": {},
   "outputs": [
    {
     "name": "stdout",
     "output_type": "stream",
     "text": [
      "1\n",
      "1\n",
      "+\n",
      "-\n"
     ]
    }
   ],
   "source": [
    "r = int(input())\n",
    "stack =[]\n",
    "chk = []\n",
    "result = []\n",
    "# 기본 세팅\n",
    "for i in range(r) :\n",
    "    chk.append(int(input()))\n",
    "idx = 0\n",
    "\n",
    "for i in range(1,r+1) :\n",
    "    stack.append(i)\n",
    "    result.append(\"+\")\n",
    "\n",
    "    while idx < r and  len(stack) != 0 and chk[idx] == stack[-1] :\n",
    "        stack.pop()\n",
    "        result.append(\"-\")\n",
    "        idx = idx + 1\n",
    "\n",
    "print('\\n'.join(result) if not stack else 'NO')"
   ]
  },
  {
   "cell_type": "code",
   "execution_count": 63,
   "metadata": {},
   "outputs": [
    {
     "name": "stdout",
     "output_type": "stream",
     "text": [
      "1\n",
      "1\n"
     ]
    },
    {
     "ename": "IndexError",
     "evalue": "list index out of range",
     "output_type": "error",
     "traceback": [
      "\u001b[0;31m---------------------------------------------------------------------------\u001b[0m",
      "\u001b[0;31mIndexError\u001b[0m                                Traceback (most recent call last)",
      "\u001b[0;32m<ipython-input-63-09d29b389c88>\u001b[0m in \u001b[0;36m<module>\u001b[0;34m\u001b[0m\n\u001b[1;32m     12\u001b[0m     \u001b[0mresult\u001b[0m\u001b[0;34m.\u001b[0m\u001b[0mappend\u001b[0m\u001b[0;34m(\u001b[0m\u001b[0;34m\"+\"\u001b[0m\u001b[0;34m)\u001b[0m\u001b[0;34m\u001b[0m\u001b[0;34m\u001b[0m\u001b[0m\n\u001b[1;32m     13\u001b[0m \u001b[0;34m\u001b[0m\u001b[0m\n\u001b[0;32m---> 14\u001b[0;31m     \u001b[0;32mwhile\u001b[0m \u001b[0mchk\u001b[0m\u001b[0;34m[\u001b[0m\u001b[0;36m0\u001b[0m\u001b[0;34m]\u001b[0m \u001b[0;34m<=\u001b[0m \u001b[0mi\u001b[0m \u001b[0;32mand\u001b[0m  \u001b[0mlen\u001b[0m\u001b[0;34m(\u001b[0m\u001b[0mstack\u001b[0m\u001b[0;34m)\u001b[0m \u001b[0;34m!=\u001b[0m \u001b[0;36m0\u001b[0m \u001b[0;32mand\u001b[0m \u001b[0mchk\u001b[0m\u001b[0;34m[\u001b[0m\u001b[0;36m0\u001b[0m\u001b[0;34m]\u001b[0m \u001b[0;34m==\u001b[0m \u001b[0mstack\u001b[0m\u001b[0;34m[\u001b[0m\u001b[0;34m-\u001b[0m\u001b[0;36m1\u001b[0m\u001b[0;34m]\u001b[0m \u001b[0;34m:\u001b[0m\u001b[0;34m\u001b[0m\u001b[0;34m\u001b[0m\u001b[0m\n\u001b[0m\u001b[1;32m     15\u001b[0m         \u001b[0mstack\u001b[0m\u001b[0;34m.\u001b[0m\u001b[0mpop\u001b[0m\u001b[0;34m(\u001b[0m\u001b[0;34m)\u001b[0m\u001b[0;34m\u001b[0m\u001b[0;34m\u001b[0m\u001b[0m\n\u001b[1;32m     16\u001b[0m         \u001b[0mresult\u001b[0m\u001b[0;34m.\u001b[0m\u001b[0mappend\u001b[0m\u001b[0;34m(\u001b[0m\u001b[0;34m\"-\"\u001b[0m\u001b[0;34m)\u001b[0m\u001b[0;34m\u001b[0m\u001b[0;34m\u001b[0m\u001b[0m\n",
      "\u001b[0;31mIndexError\u001b[0m: list index out of range"
     ]
    }
   ],
   "source": [
    "r = int(input())\n",
    "stack =[]\n",
    "chk = []\n",
    "result = []\n",
    "# 기본 세팅\n",
    "for i in range(r) :\n",
    "    chk.append(int(input()))\n",
    "idx = 0\n",
    "\n",
    "for i in range(1,r+1) :\n",
    "    stack.append(i)\n",
    "    result.append(\"+\")\n",
    "\n",
    "    while chk[0] <= i and  len(stack) != 0 and chk[0] == stack[-1] :\n",
    "        stack.pop()\n",
    "        result.append(\"-\")\n",
    "        chk.pop(0)\n",
    "\n",
    "print('\\n'.join(result) if not stack else 'NO')"
   ]
  },
  {
   "cell_type": "code",
   "execution_count": 57,
   "metadata": {},
   "outputs": [
    {
     "name": "stdout",
     "output_type": "stream",
     "text": [
      "1\n",
      "1\n",
      "+\n",
      "-\n"
     ]
    }
   ],
   "source": [
    "i= int(input())\n",
    "a=[]\n",
    "b=[]\n",
    "index=1\n",
    "\n",
    "for i in range(i):\n",
    "    num = int(input())\n",
    "    if (index==1) or (len(a)==1) or (len(a)==0) or (a[-1] <= num) :\n",
    "        while index <= num:\n",
    "            b.append(\"+\")\n",
    "            a.append(index)\n",
    "            index+=1\n",
    "        a.pop()\n",
    "        b.append(\"-\")\n",
    "\n",
    "if len(a)==0:\n",
    "    for i in range(len(b)):\n",
    "        print(b[i])\n",
    "else:\n",
    "    print(\"NO\")\n",
    "\n"
   ]
  },
  {
   "cell_type": "code",
   "execution_count": 53,
   "metadata": {},
   "outputs": [
    {
     "name": "stdout",
     "output_type": "stream",
     "text": [
      "5\n",
      "1\n",
      "2\n",
      "3\n",
      "4\n",
      "5\n",
      "+\n",
      "-\n",
      "+\n",
      "-\n",
      "+\n",
      "-\n",
      "+\n",
      "-\n",
      "+\n",
      "-\n"
     ]
    }
   ],
   "source": [
    "number = int(input())\n",
    "\n",
    "stack  = []\n",
    "excute = []\n",
    "temp   = []\n",
    "\n",
    "for x in range(number):\n",
    "    stack.append(int(input()))\n",
    "\n",
    "for x in range(1, number + 1):\n",
    "    temp.append(x)       \n",
    "    excute.append('+')\n",
    "        \n",
    "    if x is stack[0]:\n",
    "        excute.append('-')\n",
    "        temp.pop(0)\n",
    "        stack.pop(0)\n",
    "\n",
    "        while temp and stack: #and stack[0] < x:\n",
    "            if temp[0] is stack[0]:\n",
    "                excute.append('-')\n",
    "                temp.pop(0)\n",
    "                stack.pop(0)\n",
    "            else:\n",
    "                break\n",
    "\n",
    "print('\\n'.join(excute) if not temp else 'NO')"
   ]
  },
  {
   "cell_type": "code",
   "execution_count": 51,
   "metadata": {},
   "outputs": [
    {
     "data": {
      "text/plain": [
       "[]"
      ]
     },
     "execution_count": 51,
     "metadata": {},
     "output_type": "execute_result"
    }
   ],
   "source": [
    "stack"
   ]
  }
 ],
 "metadata": {
  "kernelspec": {
   "display_name": "Python 3",
   "language": "python",
   "name": "python3"
  },
  "language_info": {
   "codemirror_mode": {
    "name": "ipython",
    "version": 3
   },
   "file_extension": ".py",
   "mimetype": "text/x-python",
   "name": "python",
   "nbconvert_exporter": "python",
   "pygments_lexer": "ipython3",
   "version": "3.6.7"
  },
  "toc": {
   "base_numbering": 1,
   "nav_menu": {},
   "number_sections": true,
   "sideBar": true,
   "skip_h1_title": false,
   "title_cell": "Table of Contents",
   "title_sidebar": "Contents",
   "toc_cell": false,
   "toc_position": {},
   "toc_section_display": true,
   "toc_window_display": false
  },
  "varInspector": {
   "cols": {
    "lenName": 16,
    "lenType": 16,
    "lenVar": 40
   },
   "kernels_config": {
    "python": {
     "delete_cmd_postfix": "",
     "delete_cmd_prefix": "del ",
     "library": "var_list.py",
     "varRefreshCmd": "print(var_dic_list())"
    },
    "r": {
     "delete_cmd_postfix": ") ",
     "delete_cmd_prefix": "rm(",
     "library": "var_list.r",
     "varRefreshCmd": "cat(var_dic_list()) "
    }
   },
   "types_to_exclude": [
    "module",
    "function",
    "builtin_function_or_method",
    "instance",
    "_Feature"
   ],
   "window_display": false
  }
 },
 "nbformat": 4,
 "nbformat_minor": 2
}
