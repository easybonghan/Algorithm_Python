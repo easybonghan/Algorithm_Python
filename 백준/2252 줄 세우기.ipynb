{
 "cells": [
  {
   "cell_type": "markdown",
   "metadata": {},
   "source": [
    "#  줄 세우기 [2252](https://www.acmicpc.net/problem/2252)\n",
    "## 문제\n",
    "N명의 학생들을 키 순서대로 줄을 세우려고 한다. 각 학생의 키를 직접 재서 정렬하면 간단하겠지만, 마땅한 방법이 없어서 두 학생의 키를 비교하는 방법을 사용하기로 하였다. 그나마도 모든 학생들을 다 비교해 본 것이 아니고, 일부 학생들의 키만을 비교해 보았다.\n",
    "\n",
    "일부 학생들의 키를 비교한 결과가 주어졌을 때, 줄을 세우는 프로그램을 작성하시오.\n",
    "\n",
    "## 입력\n",
    "첫째 줄에 N(1≤N≤32,000), M(1≤M≤100,000)이 주어진다. M은 키를 비교한 회수이다. 다음 M개의 줄에는 키를 비교한 두 학생의 번호 A, B가 주어진다. 이는 학생 A가 학생 B의 앞에 서야 한다는 의미이다.\n",
    "\n",
    "학생들의 번호는 1번부터 N번이다.\n",
    "\n",
    "## 출력\n",
    "첫째 줄부터 앞에서부터 줄을 세운 결과를 출력한다. 답이 여러 가지인 경우에는 아무거나 출력한다.\n",
    "\n",
    "### 예제 입력 1 \n",
    "~~~\n",
    "3 2\n",
    "1 3\n",
    "2 3\n",
    "~~~\n",
    "\n",
    "### 예제 출력 1 \n",
    "1 2 3\n",
    "\n",
    "### 예제 입력 2 \n",
    "~~~\n",
    "4 2\n",
    "4 2\n",
    "3 1\n",
    "~~~\n",
    "\n",
    "### 예제 출력 2 \n",
    "4 2 3 1\n",
    "\n",
    "## 알고리즘 분류\n",
    "[위상 정렬](https://www.acmicpc.net/problem/tag/%EC%9C%84%EC%83%81%20%EC%A0%95%EB%A0%AC)  \n",
    "[우선 순위 큐](https://www.acmicpc.net/problem/tag/%EC%9A%B0%EC%84%A0%20%EC%88%9C%EC%9C%84%20%ED%81%90)\n",
    "\n",
    "## 풀이"
   ]
  },
  {
   "cell_type": "code",
   "execution_count": 3,
   "metadata": {
    "scrolled": true
   },
   "outputs": [
    {
     "name": "stdout",
     "output_type": "stream",
     "text": [
      "3 4\n"
     ]
    }
   ],
   "source": [
    "import sys\n",
    "\n",
    "def toplogiySort():\n",
    "    '''차수를 이용한 위상 정렬'''\n",
    "    queue  = [index for index, value in enumerate(inDegree) if index != 0 and value == 0]\n",
    "    result = []\n",
    "    \n",
    "    while(queue):\n",
    "        node = queue.pop(0)\n",
    "        result.append(node)\n",
    "        \n",
    "        for toNode in adjacentList[node]:\n",
    "            inDegree[toNode] -= 1\n",
    "            \n",
    "            if(inDegree[toNode] == 0):\n",
    "                queue.append(toNode)\n",
    "    return result\n",
    "    \n",
    "\n",
    "studentCount, edge = map(int, sys.stdin.readline().split())\n",
    "adjacentList       = [[] for _ in range(studentCount + 1)]\n",
    "inDegree           = [0] * (studentCount + 1)\n",
    "\n",
    "for _ in range(edge):\n",
    "    start, end = map(int, sys.stdin.readline().split())\n",
    "    adjacentList[start].append(end)\n",
    "    inDegree[end] += 1\n",
    "    \n",
    "print(' '.join(map(str, toplogiySort())))  \n",
    "        "
   ]
  },
  {
   "cell_type": "code",
   "execution_count": 12,
   "metadata": {},
   "outputs": [
    {
     "name": "stdout",
     "output_type": "stream",
     "text": [
      "3 2\n",
      "1 3\n",
      "2 3\n",
      "[1, 2]\n",
      "1 2 3\n"
     ]
    }
   ],
   "source": [
    "import sys\n",
    "\n",
    "def toplogiySort():\n",
    "    '''차수를 이용한 위상 정렬'''\n",
    "    queue  = [index for index, value in enumerate(inDegree) if index != 0 and value == 0]\n",
    "    result = []\n",
    "    \n",
    "    while(queue):\n",
    "        node = queue.pop(0)\n",
    "        result.append(node)\n",
    "        \n",
    "        for toNode in adjacentList[node]:\n",
    "            inDegree[toNode] -= 1\n",
    "            \n",
    "            if(inDegree[toNode] == 0):\n",
    "                queue.append(toNode)\n",
    "    return result\n",
    "    \n",
    "\n",
    "studentCount, edge = map(int, input().split())\n",
    "adjacentList       = [[] for _ in range(studentCount + 1)]\n",
    "inDegree           = [0] * (studentCount + 1)\n",
    "\n",
    "for _ in range(edge):\n",
    "    start, end = map(int, input().split())\n",
    "    adjacentList[start].append(end)\n",
    "    inDegree[end] += 1\n",
    "    \n",
    "print(' '.join(map(str, toplogiySort())))  \n",
    "        "
   ]
  }
 ],
 "metadata": {
  "kernelspec": {
   "display_name": "Python 3",
   "language": "python",
   "name": "python3"
  },
  "language_info": {
   "codemirror_mode": {
    "name": "ipython",
    "version": 3
   },
   "file_extension": ".py",
   "mimetype": "text/x-python",
   "name": "python",
   "nbconvert_exporter": "python",
   "pygments_lexer": "ipython3",
   "version": "3.6.7"
  },
  "toc": {
   "base_numbering": 1,
   "nav_menu": {},
   "number_sections": true,
   "sideBar": true,
   "skip_h1_title": false,
   "title_cell": "Table of Contents",
   "title_sidebar": "Contents",
   "toc_cell": false,
   "toc_position": {},
   "toc_section_display": true,
   "toc_window_display": false
  },
  "varInspector": {
   "cols": {
    "lenName": 16,
    "lenType": 16,
    "lenVar": 40
   },
   "kernels_config": {
    "python": {
     "delete_cmd_postfix": "",
     "delete_cmd_prefix": "del ",
     "library": "var_list.py",
     "varRefreshCmd": "print(var_dic_list())"
    },
    "r": {
     "delete_cmd_postfix": ") ",
     "delete_cmd_prefix": "rm(",
     "library": "var_list.r",
     "varRefreshCmd": "cat(var_dic_list()) "
    }
   },
   "types_to_exclude": [
    "module",
    "function",
    "builtin_function_or_method",
    "instance",
    "_Feature"
   ],
   "window_display": false
  }
 },
 "nbformat": 4,
 "nbformat_minor": 2
}
