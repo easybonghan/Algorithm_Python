{
 "cells": [
  {
   "cell_type": "markdown",
   "metadata": {},
   "source": [
    "# 섬의 개수\n",
    "\n",
    "## 문제\n",
    "정사각형으로 이루어져 있는 섬과 바다 지도가 주어진다. 섬의 개수를 세는 프로그램을 작성하시오.\n",
    "![](https://www.acmicpc.net/upload/images/island.png)\n",
    "\n",
    "\n",
    "한 정사각형과 가로, 세로 또는 대각선으로 연결되어 있는 사각형은 걸어갈 수 있는 사각형이다. \n",
    "\n",
    "두 정사각형이 같은 섬에 있으려면, 한 정사각형에서 다른 정사각형으로 걸어서 갈 수 있는 경로가 있어야 한다. 지도는 바다로 둘러쌓여 있으며, 지도 밖으로 나갈 수 없다.\n",
    "\n",
    "## 입력\n",
    "입력은 여러 개의 테스트 케이스로 이루어져 있다. 각 테스트 케이스의 첫째 줄에는 지도의 너비 w와 높이 h가 주어진다. w와 h는 50보다 작거나 같은 양의 정수이다.\n",
    "\n",
    "둘째 줄부터 h개 줄에는 지도가 주어진다. 1은 땅, 0은 바다이다.\n",
    "\n",
    "입력의 마지막 줄에는 0이 두 개 주어진다.\n",
    "\n",
    "## 출력\n",
    "각 테스트 케이스에 대해서, 섬의 개수를 출력한다.\n",
    "\n",
    "## 예제 입력 1 \n",
    "~~~\n",
    "1 1\n",
    "0\n",
    "2 2\n",
    "0 1\n",
    "1 0\n",
    "3 2\n",
    "1 1 1\n",
    "1 1 1\n",
    "5 4\n",
    "1 0 1 0 0\n",
    "1 0 0 0 0\n",
    "1 0 1 0 1\n",
    "1 0 0 1 0\n",
    "5 4\n",
    "1 1 1 0 1\n",
    "1 0 1 0 1\n",
    "1 0 1 0 1\n",
    "1 0 1 1 1\n",
    "5 5\n",
    "1 0 1 0 1\n",
    "0 0 0 0 0\n",
    "1 0 1 0 1\n",
    "0 0 0 0 0\n",
    "1 0 1 0 1\n",
    "0 0\n",
    "~~~\n",
    "\n",
    "## 예제 출력 1 \n",
    "~~~\n",
    "0\n",
    "1\n",
    "1\n",
    "3\n",
    "1\n",
    "9\n",
    "~~~\n",
    "\n",
    "## 알고리즘 분류\n",
    "* [그래프 알고리즘](https://www.acmicpc.net/problem/tag/%EA%B7%B8%EB%9E%98%ED%94%84%20%EC%95%8C%EA%B3%A0%EB%A6%AC%EC%A6%98)\n",
    "* [그래프 이론](https://www.acmicpc.net/problem/tag/%EA%B7%B8%EB%9E%98%ED%94%84%20%EC%9D%B4%EB%A1%A0)\n",
    "\n",
    "## 풀이"
   ]
  },
  {
   "cell_type": "code",
   "execution_count": 9,
   "metadata": {},
   "outputs": [
    {
     "name": "stdout",
     "output_type": "stream",
     "text": [
      "2 2\n",
      "1 1\n",
      "1 1\n"
     ]
    },
    {
     "ename": "TypeError",
     "evalue": "findIsland() takes 0 positional arguments but 3 were given",
     "output_type": "error",
     "traceback": [
      "\u001b[0;31m---------------------------------------------------------------------------\u001b[0m",
      "\u001b[0;31mTypeError\u001b[0m                                 Traceback (most recent call last)",
      "\u001b[0;32m<ipython-input-9-749048efbe5f>\u001b[0m in \u001b[0;36m<module>\u001b[0;34m\u001b[0m\n\u001b[1;32m     18\u001b[0m             \u001b[0mvisited\u001b[0m\u001b[0;34m.\u001b[0m\u001b[0mappend\u001b[0m\u001b[0;34m(\u001b[0m\u001b[0;34m[\u001b[0m\u001b[0;32mFalse\u001b[0m\u001b[0;34m]\u001b[0m \u001b[0;34m*\u001b[0m \u001b[0;34m(\u001b[0m\u001b[0mwidth\u001b[0m \u001b[0;34m+\u001b[0m \u001b[0;36m1\u001b[0m\u001b[0;34m)\u001b[0m\u001b[0;34m)\u001b[0m\u001b[0;34m\u001b[0m\u001b[0;34m\u001b[0m\u001b[0m\n\u001b[1;32m     19\u001b[0m \u001b[0;34m\u001b[0m\u001b[0m\n\u001b[0;32m---> 20\u001b[0;31m         \u001b[0mcount\u001b[0m \u001b[0;34m=\u001b[0m \u001b[0mfindIsland\u001b[0m\u001b[0;34m(\u001b[0m\u001b[0marea\u001b[0m\u001b[0;34m,\u001b[0m \u001b[0mwidth\u001b[0m\u001b[0;34m,\u001b[0m \u001b[0mheight\u001b[0m\u001b[0;34m)\u001b[0m\u001b[0;34m\u001b[0m\u001b[0;34m\u001b[0m\u001b[0m\n\u001b[0m\u001b[1;32m     21\u001b[0m \u001b[0;34m\u001b[0m\u001b[0m\n\u001b[1;32m     22\u001b[0m         \u001b[0mprint\u001b[0m\u001b[0;34m(\u001b[0m\u001b[0mcount\u001b[0m\u001b[0;34m)\u001b[0m\u001b[0;34m\u001b[0m\u001b[0;34m\u001b[0m\u001b[0m\n",
      "\u001b[0;31mTypeError\u001b[0m: findIsland() takes 0 positional arguments but 3 were given"
     ]
    }
   ],
   "source": [
    "def dfs(row, col):\n",
    "    if 1 <= row \n",
    "\n",
    "def findIsland():\n",
    "    \n",
    "    for row in range(1, height + 1):\n",
    "        for col in range(1, width + 1):\n",
    "            \n",
    "            \n",
    "while True:\n",
    "    width, height = map(int, input().split())\n",
    "\n",
    "    if width != 0 and height != 0:\n",
    "        area    = [[]]\n",
    "        visited = [[]]\n",
    "\n",
    "        for _ in range(height):\n",
    "            row = list(map(int, input().split()))\n",
    "            row.insert(0, 0)\n",
    "            area.append(row)\n",
    "            visited.append([False] * (width + 1))\n",
    "        \n",
    "        count = findIsland()\n",
    "        \n",
    "        print(count)\n",
    "\n",
    "    else:\n",
    "        break"
   ]
  },
  {
   "cell_type": "code",
   "execution_count": 11,
   "metadata": {},
   "outputs": [
    {
     "data": {
      "text/plain": [
       "[[], [False, False, False], [False, False, False]]"
      ]
     },
     "execution_count": 11,
     "metadata": {},
     "output_type": "execute_result"
    }
   ],
   "source": [
    "visited\n"
   ]
  },
  {
   "cell_type": "code",
   "execution_count": null,
   "metadata": {},
   "outputs": [],
   "source": []
  },
  {
   "cell_type": "code",
   "execution_count": null,
   "metadata": {},
   "outputs": [],
   "source": []
  },
  {
   "cell_type": "code",
   "execution_count": null,
   "metadata": {},
   "outputs": [],
   "source": []
  }
 ],
 "metadata": {
  "kernelspec": {
   "display_name": "Python 3",
   "language": "python",
   "name": "python3"
  },
  "language_info": {
   "codemirror_mode": {
    "name": "ipython",
    "version": 3
   },
   "file_extension": ".py",
   "mimetype": "text/x-python",
   "name": "python",
   "nbconvert_exporter": "python",
   "pygments_lexer": "ipython3",
   "version": "3.6.8"
  },
  "toc": {
   "base_numbering": 1,
   "nav_menu": {},
   "number_sections": true,
   "sideBar": true,
   "skip_h1_title": false,
   "title_cell": "Table of Contents",
   "title_sidebar": "Contents",
   "toc_cell": false,
   "toc_position": {},
   "toc_section_display": true,
   "toc_window_display": false
  },
  "varInspector": {
   "cols": {
    "lenName": 16,
    "lenType": 16,
    "lenVar": 40
   },
   "kernels_config": {
    "python": {
     "delete_cmd_postfix": "",
     "delete_cmd_prefix": "del ",
     "library": "var_list.py",
     "varRefreshCmd": "print(var_dic_list())"
    },
    "r": {
     "delete_cmd_postfix": ") ",
     "delete_cmd_prefix": "rm(",
     "library": "var_list.r",
     "varRefreshCmd": "cat(var_dic_list()) "
    }
   },
   "types_to_exclude": [
    "module",
    "function",
    "builtin_function_or_method",
    "instance",
    "_Feature"
   ],
   "window_display": false
  }
 },
 "nbformat": 4,
 "nbformat_minor": 2
}
