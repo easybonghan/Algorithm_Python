{
 "cells": [
  {
   "cell_type": "markdown",
   "metadata": {},
   "source": [
    "# 경로 찾기\n",
    "\n",
    "## 문제\n",
    "가중치 없는 방향 그래프 G가 주어졌을 때, 모든 정점 (i, j)에 대해서, i에서 j로 가는 경로가 있는지 없는지 구하는 프로그램을 작성하시오.\n",
    "\n",
    "## 입력\n",
    "첫째 줄에 정점의 개수 \\\\(N (1 ≤ N ≤ 100)\\\\)이 주어진다. 둘째 줄부터 N개 줄에는 그래프의 인접 행렬이 주어진다. i번째 줄의 j번째 숫자가 1인 경우에는 i에서 j로 가는 간선이 존재한다는 뜻이고, 0인 경우는 없다는 뜻이다. i번째 줄의 i번째 숫자는 항상 0이다.\n",
    "\n",
    "## 출력\n",
    "총 N개의 줄에 걸쳐서 문제의 정답을 인접행렬 형식으로 출력한다. 정점 i에서 j로 가는 경로가 있으면 i번째 줄의 j번째 숫자를 1로, 없으면 0으로 출력해야 한다.\n",
    "\n",
    "### 예제 입력 1 \n",
    ">3  \n",
    "0 1 0  \n",
    "0 0 1  \n",
    "1 0 0  \n",
    "\n",
    "### 예제 출력 1 \n",
    ">1 1 1    \n",
    "1 1 1  \n",
    "1 1 1\n",
    "\n",
    "### 예제 입력 2 \n",
    ">7  \n",
    "0 0 0 1 0 0 0  \n",
    "0 0 0 0 0 0 1  \n",
    "0 0 0 0 0 0 0  \n",
    "0 0 0 0 1 1 0  \n",
    "1 0 0 0 0 0 0  \n",
    "0 0 0 0 0 0 1  \n",
    "0 0 1 0 0 0 0  \n",
    "\n",
    "### 예제 출력 2 \n",
    ">1 0 1 1 1 1 1  \n",
    "0 0 1 0 0 0 1  \n",
    "0 0 0 0 0 0 0  \n",
    "1 0 1 1 1 1 1  \n",
    "1 0 1 1 1 1 1  \n",
    "0 0 1 0 0 0 1  \n",
    "0 0 1 0 0 0 0  \n",
    "\n",
    "## 알고리즘 분류\n",
    "* BFS\n",
    "* DFS\n",
    "* [플로이드 와샬 알로리즘](https://ko.wikipedia.org/wiki/%ED%94%8C%EB%A1%9C%EC%9D%B4%EB%93%9C-%EC%9B%8C%EC%85%9C_%EC%95%8C%EA%B3%A0%EB%A6%AC%EC%A6%98)"
   ]
  },
  {
   "cell_type": "markdown",
   "metadata": {},
   "source": [
    "## 참고 자료\n",
    "[그래프](https://gmlwjd9405.github.io/2018/08/13/data-structure-graph.html)\n",
    "DFS - \n",
    "BFS - 최단 경로"
   ]
  },
  {
   "cell_type": "markdown",
   "metadata": {},
   "source": [
    "## 풀이\n",
    "### 연결 성분 리스트\n",
    "\n",
    "연결성분 리스트에 간선이 있다면 경로가 있는걸로 판별하여 해를 구할려고 함."
   ]
  },
  {
   "cell_type": "code",
   "execution_count": 9,
   "metadata": {},
   "outputs": [
    {
     "name": "stdout",
     "output_type": "stream",
     "text": [
      "연결성분 리스트:\n",
      "[[0, 1, 2]]\n",
      "1 1 1\n",
      "1 1 1\n",
      "1 1 1\n"
     ]
    }
   ],
   "source": [
    "adj_list = [[1], [2], [0]]\n",
    "N = len(adj_list) # 그래프 정점 수\n",
    "CCList = []\n",
    "visited = [False for x in range(N+1)] # 방문되면 True로\n",
    " \n",
    "def dfs(v):\n",
    "    visited[v] = True # 정점 v 방문\n",
    "    cc.append(v)\n",
    "    for w in adj_list[v]: # 정점 v에 인접한 각 정점에 대해\n",
    "        if not visited[w]:\n",
    "            dfs(w) # v에 인접한 방문 안된 정점 재귀호출\n",
    "            \n",
    "for i in range(N):\n",
    "    if not visited[i]:\n",
    "        cc = []\n",
    "        dfs(i)\n",
    "        CCList.append(cc)\n",
    "\n",
    "print('연결성분 리스트:');\n",
    "print(CCList)\n",
    "\n",
    "for x in range(3):\n",
    "    result = ['0'] * 3\n",
    "    for y in range(3):\n",
    "        for z in CCList:\n",
    "            if x in z and y in z:\n",
    "                result[y] = '1'\n",
    "                continue\n",
    "            \n",
    "    print(' '.join(result))"
   ]
  },
  {
   "cell_type": "code",
   "execution_count": 10,
   "metadata": {},
   "outputs": [
    {
     "name": "stdout",
     "output_type": "stream",
     "text": [
      "연결성분 리스트:\n",
      "[[0, 3, 4, 5, 6, 2], [1]]\n",
      "1 0 1 1 1 1 1\n",
      "0 1 0 0 0 0 0\n",
      "1 0 1 1 1 1 1\n",
      "1 0 1 1 1 1 1\n",
      "1 0 1 1 1 1 1\n",
      "1 0 1 1 1 1 1\n",
      "1 0 1 1 1 1 1\n"
     ]
    }
   ],
   "source": [
    "adj_list = [[3],\n",
    "            [6],\n",
    "            [],\n",
    "            [4, 5],\n",
    "            [0],\n",
    "            [6],\n",
    "            [2]]\n",
    "N = len(adj_list) # 그래프 정점 수\n",
    "CCList = []\n",
    "visited = [False for x in range(N+1)] # 방문되면 True로\n",
    " \n",
    "def dfs(v):\n",
    "    visited[v] = True # 정점 v 방문\n",
    "    cc.append(v)\n",
    "    for w in adj_list[v]: # 정점 v에 인접한 각 정점에 대해\n",
    "        if not visited[w]:\n",
    "            dfs(w) # v에 인접한 방문 안된 정점 재귀호출\n",
    "            \n",
    "for i in range(N):\n",
    "    if not visited[i]:\n",
    "        cc = []\n",
    "        dfs(i)\n",
    "        CCList.append(cc)\n",
    "\n",
    "print('연결성분 리스트:');\n",
    "print(CCList)\n",
    "\n",
    "for x in range(N):\n",
    "    result = ['0'] * N\n",
    "    for y in range(N):\n",
    "        for z in CCList:\n",
    "            if x in z and y in z:\n",
    "                result[y] = '1'\n",
    "                continue\n",
    "            \n",
    "    print(' '.join(result))"
   ]
  },
  {
   "cell_type": "markdown",
   "metadata": {},
   "source": [
    "두번째 예제 입력 후 결과 확인 중 방향 및 사이클을 이루는 그래프는 원하는 결과를 얻을 수 없다고 판단\n",
    "그래서 Floyd-Warshall 알고리즘으 이용하여 최단 경로를 구하면 원하는 결과를 얻을거라 생각함.\n",
    "\n",
    "### Floyd-Warshall 알고리즘"
   ]
  },
  {
   "cell_type": "code",
   "execution_count": 3,
   "metadata": {},
   "outputs": [
    {
     "name": "stdout",
     "output_type": "stream",
     "text": [
      "  3  1  2\n",
      "  2  3  1\n",
      "  1  2  3\n"
     ]
    }
   ],
   "source": [
    "import sys\n",
    "N = 3 # 그래프 정점 수\n",
    "INF = sys.maxsize\n",
    "D = [ [INF, 1, INF],\n",
    "      [INF, INF, 1],\n",
    "      [1, INF, INF]\n",
    "     \n",
    "    ]\n",
    "\n",
    "for k in range(N):\n",
    "    for i in range(N):\n",
    "        for j in range(N):\n",
    "            D[i][j] = min(D[i][j], D[i][k]+D[k][j])\n",
    "            #if D[i][k] and D[k][j]:\n",
    "            #    D[i][j] = 1\n",
    "        \n",
    "for i in range(N):\n",
    "    for j in range(N):\n",
    "        print('%3d' % D[i][j], end='')\n",
    "    print()"
   ]
  },
  {
   "cell_type": "code",
   "execution_count": 9,
   "metadata": {},
   "outputs": [
    {
     "name": "stdout",
     "output_type": "stream",
     "text": [
      "  1  0  1  1  1  1  1\n",
      "  0  0  1  0  0  0  1\n",
      "  0  0  0  0  0  0  0\n",
      "  1  0  1  1  1  1  1\n",
      "  1  0  1  1  1  1  1\n",
      "  0  0  1  0  0  0  1\n",
      "  0  0  1  0  0  0  0\n"
     ]
    }
   ],
   "source": [
    "import sys\n",
    "N = 7 \n",
    "INF = 100\n",
    "D = [ [INF, INF, INF, 1, INF, INF, INF],\n",
    "      [INF, INF, INF, INF, INF, INF, 1],\n",
    "      [INF, INF, INF, INF, INF, INF, INF],\n",
    "      [INF, INF, INF, INF, 1, 1, INF],\n",
    "      [1, INF, INF, INF, INF, INF, INF],\n",
    "      [INF, INF, INF, INF, INF, INF, 1],\n",
    "      [INF, INF, 1, INF, INF, INF, INF]\n",
    "    ]\n",
    "\n",
    "\n",
    "#D = [ [0, INF, INF, 1, INF, INF, INF],\n",
    "#      [INF, 0, INF, INF, INF, INF, INF],\n",
    "#      [INF, INF, 0, INF, INF, INF, INF],\n",
    "#      [INF, INF, INF, 0, 1, 1, INF],\n",
    "#      [1, INF, INF, INF, 0, INF, INF],\n",
    "#      [INF, INF, INF, INF, INF, 0, 1],\n",
    "#      [INF, INF, 1, INF, INF, INF, 0]\n",
    "#    ]\n",
    "\n",
    "\n",
    "\n",
    "for k in range(N):\n",
    "    for i in range(N):\n",
    "        for j in range(N):\n",
    "            D[i][j] = min(D[i][j], D[i][k]+D[k][j])\n",
    "        \n",
    "for i in range(N):\n",
    "    for j in range(N):\n",
    "#         print('%3d' % D[i][j], end='')\n",
    "        if D[i][j] == INF:\n",
    "            print('%3d' % 0, end='')\n",
    "        else:\n",
    "            print('%3d' % 1, end='')\n",
    "    print()"
   ]
  },
  {
   "cell_type": "code",
   "execution_count": null,
   "metadata": {},
   "outputs": [],
   "source": [
    "1 0 1 1 1 1 1\n",
    "0 0 1 0 0 0 1\n",
    "0 0 0 0 0 0 0\n",
    "1 0 1 1 1 1 1\n",
    "1 0 1 1 1 1 1\n",
    "0 0 1 0 0 0 1\n",
    "0 0 1 0 0 0 0"
   ]
  },
  {
   "cell_type": "markdown",
   "metadata": {},
   "source": [
    "확인 결과 대칭을 이루는 사선의 값은 원하는 값이 아님. '연결 성분 리스트' 중 '강연결 성분'을 구하고 그 중 사이클를 이루는 그래프를 구하여 사선의 값을 구함 \n",
    "\n",
    "### 사이클 그래프 찾기"
   ]
  },
  {
   "cell_type": "code",
   "execution_count": 15,
   "metadata": {},
   "outputs": [
    {
     "name": "stdout",
     "output_type": "stream",
     "text": [
      "[3, 4, 0] True\n",
      "[1] False\n",
      "[5, 6, 2] False\n"
     ]
    }
   ],
   "source": [
    "adj_list = [[3],\n",
    "            [6],\n",
    "            [],\n",
    "            [4, 5],\n",
    "            [0],\n",
    "            [6],\n",
    "            [2]]\n",
    "\n",
    "def cyclic(graph):\n",
    "    \"\"\"Return True if the directed graph has a cycle.\n",
    "    The graph must be represented as a dictionary mapping vertices to\n",
    "    iterables of neighbouring vertices. For example:\n",
    "\n",
    "    >>> cyclic({1: (2,), 2: (3,), 3: (1,)})\n",
    "    True\n",
    "    >>> cyclic({1: (2,), 2: (3,), 3: (4,)})\n",
    "    False\n",
    "\n",
    "    \"\"\"\n",
    "    visited  = set()\n",
    "    path     = [object()]\n",
    "    path_set = set(path)\n",
    "    stack    = [iter(graph)]\n",
    "    \n",
    "    while stack:\n",
    "        for v in stack[-1]:\n",
    "            if v in path_set:\n",
    "                return True\n",
    "            elif v not in visited:\n",
    "                visited.add(v)\n",
    "                path.append(v)\n",
    "                path_set.add(v)\n",
    "                stack.append(iter(graph.get(v, ())))\n",
    "                break\n",
    "        else:\n",
    "            path_set.remove(path.pop())\n",
    "            stack.pop()\n",
    "    return False\n",
    "\n",
    "for g in cc:\n",
    "    s = { ele:tuple(adj_list[ele])   for ele in g}\n",
    "    \n",
    "    print(g, cyclic(s))"
   ]
  },
  {
   "cell_type": "markdown",
   "metadata": {},
   "source": [
    "### Strongly Connected Component(강연결 성분)"
   ]
  },
  {
   "cell_type": "code",
   "execution_count": 14,
   "metadata": {},
   "outputs": [],
   "source": [
    "def dfs(graph, a, i):\n",
    "    visited[i] = True\n",
    "    \n",
    "    for j in graph[i]:\n",
    "        if not visited[j]:\n",
    "            dfs(graph, a, j)\n",
    "            \n",
    "    a.append(i)\n",
    "        \n",
    "def find_cc(g):\n",
    "    N                 = len(g)\n",
    "    componet_set      = []\n",
    "    topological_order = []\n",
    "    \n",
    "    for i in range(N):\n",
    "        if not visited[i]:\n",
    "            dfs(g, topological_order, i)\n",
    "    \n",
    "    topological_order.reverse()\n",
    "    \n",
    "    reverse_praph = [[] for i in range(N)]\n",
    "    for i in range(N):\n",
    "        for j in g[i]:\n",
    "            reverse_praph[j].append(i)\n",
    "            \n",
    "    for i in range(N):\n",
    "        visited[i] = False\n",
    "        \n",
    "    for i in range(N):\n",
    "        if not visited[i]:\n",
    "            component = []\n",
    "            dfs(reverse_praph, component, i)\n",
    "            componet_set.append(component)\n",
    "            \n",
    "    return componet_set\n",
    "\n",
    "#g = [[7], [8], [5], [4, 8, 1], [2, 5], [3], [0, 4], [2, 6], [1]]\n",
    "g = adj_list\n",
    "visited = [False] * len(g)\n",
    "\n",
    "cc = find_cc(g)\n"
   ]
  },
  {
   "cell_type": "markdown",
   "metadata": {},
   "source": [
    "### 전체 코드\n",
    "결과 - 틀렸습니다. 틀린 testcase를 확인 못하여, testcase를 만들어 더 테스트 해 보고, 코드를 더 간간하게 해야 할거 같음."
   ]
  },
  {
   "cell_type": "code",
   "execution_count": 1,
   "metadata": {
    "scrolled": true
   },
   "outputs": [
    {
     "name": "stdout",
     "output_type": "stream",
     "text": [
      "7\n",
      "0 0 0 1 0 0 0\n",
      "0 0 0 0 0 0 1\n",
      "0 0 0 0 0 0 0\n",
      "0 0 0 0 1 1 0\n",
      "1 0 0 0 0 0 0\n",
      "0 0 0 0 0 0 1\n",
      "0 0 1 0 0 0 0\n",
      "1 0 1 1 1 1 1\n",
      "0 0 1 0 0 0 1\n",
      "0 0 0 0 0 0 0\n",
      "1 0 1 1 1 1 1\n",
      "1 0 1 1 1 1 1\n",
      "0 0 1 0 0 0 1\n",
      "0 0 1 0 0 0 0\n"
     ]
    }
   ],
   "source": [
    "import sys\n",
    "from itertools import chain\n",
    "\n",
    "def dfs(graph, a, i):\n",
    "    visited[i] = True\n",
    "    \n",
    "    for j in graph[i]:\n",
    "        if not visited[j]:\n",
    "            dfs(graph, a, j)\n",
    "            \n",
    "    a.append(i)\n",
    "    \n",
    "def output(adjacencyMatrix, v, ccc):\n",
    "    l = list(chain(*ccc))\n",
    "\n",
    "    for i in range(vertex):\n",
    "        if i in l:\n",
    "            adjacencyMatrix[i][i] = 1\n",
    "        else:\n",
    "            adjacencyMatrix[i][i] = 0\n",
    "        \n",
    "    for i in range(v):\n",
    "        temp = []\n",
    "        for j in range(v):\n",
    "            if adjacencyMatrix[i][j] == INF or adjacencyMatrix[i][j] == 0 :\n",
    "                temp.append('0')\n",
    "            else:\n",
    "                temp.append('1')\n",
    "        print(' '.join(temp))\n",
    "\n",
    "def getCycle(adjacencyMatrix):\n",
    "    ccc = []\n",
    "    for gr in find_cc(adjacencyMatrix):\n",
    "        s = { ele:tuple(am2[ele]) for ele in gr}\n",
    "        if cyclic(s):\n",
    "            ccc.append(gr) \n",
    "    \n",
    "    return ccc\n",
    "\n",
    "def FloydWarshall(adjacencyMatrix, v):\n",
    "    for k in range(v):\n",
    "        for i in range(v):\n",
    "            for j in range(v):\n",
    "                adjacencyMatrix[i][j] = min(adjacencyMatrix[i][j], adjacencyMatrix[i][k] + adjacencyMatrix[k][j])\n",
    "        \n",
    "def find_cc(g):\n",
    "    N                 = len(g)\n",
    "    componet_set      = []\n",
    "    topological_order = []\n",
    "    \n",
    "    for i in range(N):\n",
    "        if not visited[i]:\n",
    "            dfs(g, topological_order, i)\n",
    "    \n",
    "    topological_order.reverse()\n",
    "    \n",
    "    reverse_praph = [[] for i in range(N)]\n",
    "    for i in range(N):\n",
    "        for j in g[i]:\n",
    "            reverse_praph[j].append(i)\n",
    "            \n",
    "    for i in range(N):\n",
    "        visited[i] = False\n",
    "        \n",
    "    for i in range(N):\n",
    "        if not visited[i]:\n",
    "            component = []\n",
    "            dfs(reverse_praph, component, i)\n",
    "            componet_set.append(component)\n",
    "            \n",
    "    return componet_set\n",
    "\n",
    "def cyclic(graph):\n",
    "    \"\"\"Return True if the directed graph has a cycle.\n",
    "    The graph must be represented as a dictionary mapping vertices to\n",
    "    iterables of neighbouring vertices. For example:\n",
    "\n",
    "    >>> cyclic({1: (2,), 2: (3,), 3: (1,)})\n",
    "    True\n",
    "    >>> cyclic({1: (2,), 2: (3,), 3: (4,)})\n",
    "    False\n",
    "\n",
    "    \"\"\"\n",
    "    visited  = set()\n",
    "    path     = [object()]\n",
    "    path_set = set(path)\n",
    "    stack    = [iter(graph)]\n",
    "    \n",
    "    while stack:\n",
    "        for v in stack[-1]:\n",
    "            if v in path_set:\n",
    "                return True\n",
    "            elif v not in visited:\n",
    "                visited.add(v)\n",
    "                path.append(v)\n",
    "                path_set.add(v)\n",
    "                stack.append(iter(graph.get(v, ())))\n",
    "                break\n",
    "        else:\n",
    "            path_set.remove(path.pop())\n",
    "            stack.pop()\n",
    "    return False\n",
    "\n",
    "vertex          = int(input())\n",
    "adjacencyMatrix = []\n",
    "am2             = []\n",
    "INF             = sys.maxsize\n",
    "visited         = [False] * vertex\n",
    "\n",
    "# 입력 받아서 인접행렬로 변환\n",
    "for i in range(vertex):\n",
    "    temp    = [ INF if ele is '0' else int(ele) for ele in input().split()]\n",
    "    am2.append([i for i in range(len(temp)) if temp[i] is 1])\n",
    "    temp[i] = 0\n",
    "    adjacencyMatrix.append(temp )\n",
    "\n",
    "# Floyd-Warshall 이용한 최단 경로 찾기\n",
    "FloydWarshall(adjacencyMatrix, vertex)\n",
    "\n",
    "# 사이클을 이루는 그래프 구하기\n",
    "ccc = getCycle(am2)\n",
    "output(adjacencyMatrix, vertex, ccc)\n",
    "    "
   ]
  },
  {
   "cell_type": "markdown",
   "metadata": {},
   "source": [
    "### 해결\n",
    "인접 행렬 만들때 사선의 0 또한 INF로 했어야 했는데ㅠㅠ. "
   ]
  },
  {
   "cell_type": "code",
   "execution_count": 13,
   "metadata": {
    "scrolled": true
   },
   "outputs": [
    {
     "name": "stdout",
     "output_type": "stream",
     "text": [
      "3\n",
      "0 1 0\n",
      "0 0 1\n",
      "1 0 0\n",
      "1 1 1\n",
      "1 1 1\n",
      "1 1 1\n"
     ]
    }
   ],
   "source": [
    "def FloydWarshall(adjacencyMatrix, v):\n",
    "    for k in range(v):\n",
    "        for i in range(v):\n",
    "            for j in range(v):\n",
    "                if adjacencyMatrix[i][k] and adjacencyMatrix[k][j]:\n",
    "                    adjacencyMatrix[i][j] = 1\n",
    "        \n",
    "\n",
    "vertex          = int(input())\n",
    "adjacencyMatrix = []\n",
    "\n",
    "# 입력 받아서 인접행렬로 변환\n",
    "for i in range(vertex):\n",
    "    temp    = [ int(ele) for ele in input().split()]\n",
    "\n",
    "    adjacencyMatrix.append(temp )\n",
    "\n",
    "# Floyd-Warshall 이용한 최단 경로 찾기\n",
    "FloydWarshall(adjacencyMatrix, vertex)\n",
    "\n",
    "for row in adjacencyMatrix:\n",
    "    print(' '.join(list(map(lambda x:str(x), row))))"
   ]
  }
 ],
 "metadata": {
  "kernelspec": {
   "display_name": "Python 3",
   "language": "python",
   "name": "python3"
  },
  "language_info": {
   "codemirror_mode": {
    "name": "ipython",
    "version": 3
   },
   "file_extension": ".py",
   "mimetype": "text/x-python",
   "name": "python",
   "nbconvert_exporter": "python",
   "pygments_lexer": "ipython3",
   "version": "3.6.7"
  },
  "toc": {
   "base_numbering": 1,
   "nav_menu": {},
   "number_sections": true,
   "sideBar": true,
   "skip_h1_title": false,
   "title_cell": "Table of Contents",
   "title_sidebar": "Contents",
   "toc_cell": false,
   "toc_position": {
    "height": "calc(100% - 180px)",
    "left": "10px",
    "top": "150px",
    "width": "258.594px"
   },
   "toc_section_display": true,
   "toc_window_display": true
  },
  "varInspector": {
   "cols": {
    "lenName": 16,
    "lenType": 16,
    "lenVar": 40
   },
   "kernels_config": {
    "python": {
     "delete_cmd_postfix": "",
     "delete_cmd_prefix": "del ",
     "library": "var_list.py",
     "varRefreshCmd": "print(var_dic_list())"
    },
    "r": {
     "delete_cmd_postfix": ") ",
     "delete_cmd_prefix": "rm(",
     "library": "var_list.r",
     "varRefreshCmd": "cat(var_dic_list()) "
    }
   },
   "types_to_exclude": [
    "module",
    "function",
    "builtin_function_or_method",
    "instance",
    "_Feature"
   ],
   "window_display": false
  }
 },
 "nbformat": 4,
 "nbformat_minor": 2
}
