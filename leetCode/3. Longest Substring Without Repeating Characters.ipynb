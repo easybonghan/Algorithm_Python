{
 "cells": [
  {
   "cell_type": "markdown",
   "metadata": {},
   "source": [
    "# 3. Longest Substring Without Repeating Characters\n",
    "\n",
    "## Goal\n",
    "Given a string, find the length of the longest substring without repeating characters.\n",
    "\n",
    "## Test Cases\n",
    "Example 1:\n",
    "~~~C\n",
    "Input: \"abcabcbb\"\n",
    "Output: 3 \n",
    "Explanation: The answer is \"abc\", with the length of 3. \n",
    "~~~\n",
    "\n",
    "Example 2:\n",
    "~~~c\n",
    "Input: \"bbbbb\"\n",
    "Output: 1\n",
    "Explanation: The answer is \"b\", with the length of 1.\n",
    "~~~\n",
    "\n",
    "Example 3:\n",
    "~~~c\n",
    "Input: \"pwwkew\"\n",
    "Output: 3\n",
    "Explanation: The answer is \"wke\", with the length of 3. \n",
    "Note that the answer must be a substring, \"pwke\" is a subsequence and not a substring.\n",
    "~~~\n",
    "\n",
    "## Solutions\n",
    "### 1. 하나하나 테스트 케이스에 맞게 풀이한 코드\n",
    "* 코드가 길다. \n",
    "* 전체적인거 생각없이 테스트 케이스에 맞게 작성한 거라 중복된 코드도 보인다. \n",
    "~~~c\n",
    "if len(s) < 2:\n",
    "            return len(s)\n",
    "~~~\n",
    "필요없는 코드일텐데, 테스트 케이스에 마추느라 들어간 코드 --.--;\n",
    "\n",
    "아래는 처음 test cases 보고 생각한 풀이 방법\n",
    "~~~c\n",
    "*연속으로 중복된 문자가 아니면\n",
    "    *문자열 중에 문자가 있으면\n",
    "        기존 문자열 크기와 비교하여 크면 문자열 갱신\n",
    "        시작 위치 다시 설정 후 중복되지 않은 문자열을 찾기 시작\n",
    "        \n",
    "    기존 문자열에 추가   \n",
    "*연속으로 중복된 문자면\n",
    "    기존 문자열 크기와 비교하여 크면 문자열 갱신\n",
    "    시작 위치 다시 설정 후 중복되지 않은 문자열을 찾기 시작\n",
    "~~~\n",
    "통과하지 못한 test case에 맞게 작성되어서, 변수가 더 생기고, 코드가 길어짐.\n",
    "\n",
    "* 속도는 1000ms"
   ]
  },
  {
   "cell_type": "code",
   "execution_count": 120,
   "metadata": {},
   "outputs": [],
   "source": [
    "class Solution:\n",
    "    def lengthOfLongestSubstring(self, s):\n",
    "        \"\"\"\n",
    "        :type s: str\n",
    "        :rtype: int\n",
    "        \"\"\"\n",
    "        \n",
    "        if len(s) < 2:\n",
    "            return len(s)\n",
    "        \n",
    "        longestSubstring = s[0]\n",
    "        LSSP             = 0\n",
    "        currentPosition  = 1\n",
    "        stringLength     = len(s)\n",
    "        \n",
    "        result           = ''\n",
    "        \n",
    "        while stringLength > currentPosition:\n",
    "            if s[currentPosition - 1] is not s[currentPosition]:\n",
    "                \n",
    "                if s[currentPosition] in longestSubstring:\n",
    "                    if len(result) <= len(longestSubstring):\n",
    "                        result = longestSubstring\n",
    "                        \n",
    "                    LSSP += 1 \n",
    "                    longestSubstring =  s[LSSP]\n",
    "                    currentPosition  = LSSP + 1\n",
    "                    continue\n",
    "                    \n",
    "                longestSubstring += s[currentPosition]\n",
    "                currentPosition += 1\n",
    "                \n",
    "                if longestSubstring == s[currentPosition:currentPosition + len(longestSubstring)]:\n",
    "                    currentPosition += len(longestSubstring)\n",
    "                \n",
    "                continue\n",
    "            elif s[currentPosition - 1] is s[currentPosition]:\n",
    "                if len(result) <= len(longestSubstring):\n",
    "                    result = longestSubstring\n",
    "                \n",
    "                LSSP += 1 \n",
    "                longestSubstring =  s[LSSP]\n",
    "                currentPosition  = LSSP + 1\n",
    "                continue\n",
    "        \n",
    "        if len(result) <= len(longestSubstring):\n",
    "            result = longestSubstring\n",
    "                    \n",
    "        return len(result)"
   ]
  },
  {
   "cell_type": "markdown",
   "metadata": {},
   "source": [
    "### xx>-->xx, xxx>->xx, xxx>--->x \n",
    "* \\>--> : Longest Substring Without Repeating Characters\n",
    "* 처음부터 이런 생각을 했다면 얼마나 좋았을까 라는 생각이 든다.\n",
    "* 큐를 이용한 풀이 방법\n",
    "    1. 문자열에서 문자를 하나씩 꺼내 큐에 담는다.\n",
    "    2. 꺼낸 문자가 큐에 있다면 있다면 앞에서부터 제거 한다.\n",
    "* 다른 풀이를 보면 사용한는 코드만 다를뿐 핵식적인 내용은 같다.  \n",
    "처음 작성한 코드와 다른것이 있다면 연속으로 중복되거나, 문자열에 비교하는 문자가 있을 경우 전자는 다시 작성하고 후자는 중복된 부분만 제거하고 기존에 있는걸 활용한다는 것이 다르다.\n",
    "* 속도는 100ms"
   ]
  },
  {
   "cell_type": "code",
   "execution_count": 116,
   "metadata": {},
   "outputs": [],
   "source": [
    "class Solution:\n",
    "    def lengthOfLongestSubstring(self, s):\n",
    "        \"\"\"\n",
    "        :type s: str\n",
    "        :rtype: int\n",
    "        \"\"\"\n",
    "        \n",
    "        queue = []\n",
    "        lols  = 0\n",
    "        \n",
    "        for char in s:\n",
    "            if char not in queue:\n",
    "                queue.append(char)\n",
    "            else:\n",
    "                if lols < len(queue):\n",
    "                    lols = len(queue)\n",
    "                \n",
    "                while char in queue:\n",
    "                    queue.pop(0)\n",
    "                \n",
    "                queue.append(char)\n",
    "                \n",
    "        return len(queue) if lols < len(queue) else lols"
   ]
  },
  {
   "cell_type": "markdown",
   "metadata": {},
   "source": [
    "### 다른 풀이."
   ]
  },
  {
   "cell_type": "code",
   "execution_count": 82,
   "metadata": {},
   "outputs": [],
   "source": [
    "class Solution:\n",
    "    def lengthOfLongestSubstring(self, s):\n",
    "        \"\"\"\n",
    "        :type s: str\n",
    "        :rtype: int\n",
    "        \"\"\"\n",
    "        l, t, m, p = 0, '', 0, len(set(s))\n",
    "        for v in s:\n",
    "            if v in t:\n",
    "                t = t[t.index(v) + 1:] + v\n",
    "            else:\n",
    "                t += v\n",
    "                l = len(t)\n",
    "                if l > m:\n",
    "                    if l == p:\n",
    "                        return p\n",
    "                    m = l\n",
    "        return m\n",
    "        "
   ]
  },
  {
   "cell_type": "markdown",
   "metadata": {},
   "source": [
    "### 다른 풀이."
   ]
  },
  {
   "cell_type": "code",
   "execution_count": 83,
   "metadata": {},
   "outputs": [],
   "source": [
    "class Solution:\n",
    "    def lengthOfLongestSubstring(self, s):\n",
    "        \"\"\"\n",
    "        :type s: str\n",
    "        :rtype: int\n",
    "        \"\"\"\n",
    "        maxRep = 0\n",
    "        maxNum = 0\n",
    "        substring = {}\n",
    "        n = len(s)\n",
    "        for i in range(n):\n",
    "            if s[i] in substring:\n",
    "                maxRep = max(maxRep, substring[s[i]])\n",
    "            substring[s[i]] = i + 1\n",
    "            maxNum = max(maxNum, i-maxRep+1)\n",
    "        return maxNum"
   ]
  },
  {
   "cell_type": "markdown",
   "metadata": {},
   "source": [
    "### 다른 풀이."
   ]
  },
  {
   "cell_type": "code",
   "execution_count": 87,
   "metadata": {},
   "outputs": [],
   "source": [
    "class Solution:\n",
    "    def lengthOfLongestSubstring(self, s):\n",
    "        \"\"\"\n",
    "        :type s: str\n",
    "        :rtype: int\n",
    "        \"\"\"\n",
    "        \n",
    "        ans = 0\n",
    "        sub = \"\"\n",
    "        \n",
    "        for char in s:\n",
    "            if char not in sub:\n",
    "                sub += char\n",
    "                ans = max(ans, len(sub))\n",
    "            else:\n",
    "                cut = sub.index(char)\n",
    "                sub = sub[cut + 1: ] + char\n",
    "        return ans"
   ]
  },
  {
   "cell_type": "markdown",
   "metadata": {},
   "source": [
    "### 다른 풀이."
   ]
  },
  {
   "cell_type": "code",
   "execution_count": 107,
   "metadata": {},
   "outputs": [],
   "source": [
    "class Solution:\n",
    "    def lengthOfLongestSubstring(self, s):\n",
    "        \"\"\"\n",
    "        :type s: str\n",
    "        :rtype: int\n",
    "        \"\"\"\n",
    "        i = 0\n",
    "        recentset = set()\n",
    "        recent = []\n",
    "        maxlen = 0\n",
    "        for j, x in enumerate(s):\n",
    "            recent.append((x, j))\n",
    "            if x not in recentset:\n",
    "                recentset.add(x)\n",
    "                maxlen = max(maxlen, j-i+1)\n",
    "            else:\n",
    "                # get rid of things until you see the dup\n",
    "                for k, (y, ind) in enumerate(recent):\n",
    "                    if y == x:\n",
    "                        recent = recent[k+1:]\n",
    "                        i = ind + 1\n",
    "                        break\n",
    "                    else:\n",
    "                        recentset.remove(y)\n",
    "                        \n",
    "                        \n",
    "        return maxlen"
   ]
  },
  {
   "cell_type": "markdown",
   "metadata": {},
   "source": [
    "### Test Cases"
   ]
  },
  {
   "cell_type": "code",
   "execution_count": 119,
   "metadata": {},
   "outputs": [
    {
     "name": "stdout",
     "output_type": "stream",
     "text": [
      "3\n",
      "1\n",
      "3\n",
      "2\n",
      "5\n",
      "3\n",
      "5\n"
     ]
    }
   ],
   "source": [
    "s = Solution()\n",
    "print(s.lengthOfLongestSubstring('abcabcbb'))   # 3\n",
    "print(s.lengthOfLongestSubstring('bbbbbbbbbb')) # 1\n",
    "print(s.lengthOfLongestSubstring('pwwkew'))     # 3\n",
    "print(s.lengthOfLongestSubstring('au'))         # 2\n",
    "print(s.lengthOfLongestSubstring('ckilbkd'))    # 5\n",
    "print(s.lengthOfLongestSubstring('dvdf'))       # 3\n",
    "print(s.lengthOfLongestSubstring('anviaj'))     # 5"
   ]
  }
 ],
 "metadata": {
  "kernelspec": {
   "display_name": "Python 3",
   "language": "python",
   "name": "python3"
  },
  "language_info": {
   "codemirror_mode": {
    "name": "ipython",
    "version": 3
   },
   "file_extension": ".py",
   "mimetype": "text/x-python",
   "name": "python",
   "nbconvert_exporter": "python",
   "pygments_lexer": "ipython3",
   "version": "3.6.7"
  },
  "toc": {
   "base_numbering": 1,
   "nav_menu": {},
   "number_sections": true,
   "sideBar": true,
   "skip_h1_title": false,
   "title_cell": "Table of Contents",
   "title_sidebar": "Contents",
   "toc_cell": false,
   "toc_position": {},
   "toc_section_display": true,
   "toc_window_display": false
  },
  "varInspector": {
   "cols": {
    "lenName": 16,
    "lenType": 16,
    "lenVar": 40
   },
   "kernels_config": {
    "python": {
     "delete_cmd_postfix": "",
     "delete_cmd_prefix": "del ",
     "library": "var_list.py",
     "varRefreshCmd": "print(var_dic_list())"
    },
    "r": {
     "delete_cmd_postfix": ") ",
     "delete_cmd_prefix": "rm(",
     "library": "var_list.r",
     "varRefreshCmd": "cat(var_dic_list()) "
    }
   },
   "types_to_exclude": [
    "module",
    "function",
    "builtin_function_or_method",
    "instance",
    "_Feature"
   ],
   "window_display": false
  }
 },
 "nbformat": 4,
 "nbformat_minor": 2
}
