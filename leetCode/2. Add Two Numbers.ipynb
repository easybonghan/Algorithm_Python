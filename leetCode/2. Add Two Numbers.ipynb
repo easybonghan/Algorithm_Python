{
 "cells": [
  {
   "cell_type": "markdown",
   "metadata": {},
   "source": [
    "# 2. Add Two Numbers\n",
    "\n",
    "You are given two non-empty linked lists representing two non-negative integers. The digits are stored in reverse order and each of their nodes contain a single digit. Add the two numbers and return it as a linked list.\n",
    "\n",
    "You may assume the two numbers do not contain any leading zero, except the number 0 itself.\n",
    "\n",
    "Example:\n",
    "\n",
    "> Input: (2 -> 4 -> 3) + (5 -> 6 -> 4)  \n",
    "Output: 7 -> 0 -> 8  \n",
    "Explanation: 342 + 465 = 807.  "
   ]
  },
  {
   "cell_type": "code",
   "execution_count": 3,
   "metadata": {},
   "outputs": [],
   "source": [
    "#Definition for singly-linked list.\n",
    "class ListNode:\n",
    "    def __init__(self, x):\n",
    "        self.val = x\n",
    "        self.next = None"
   ]
  },
  {
   "cell_type": "code",
   "execution_count": 98,
   "metadata": {},
   "outputs": [],
   "source": [
    "class Solution:\n",
    "    def carry(self, l, c):\n",
    "        l.val += c\n",
    "                \n",
    "        if l.val >= 10:\n",
    "            c, l.val = divmod(l.val , 10)\n",
    "            \n",
    "            if c is not 0 and l.next:\n",
    "                self.carry(l.next, c)\n",
    "            else:\n",
    "                l.next = ListNode(c)\n",
    "        \n",
    "    def addTwoNumbers(self, l1, l2):\n",
    "        \"\"\"\n",
    "        :type l1: ListNode\n",
    "        :type l2: ListNode\n",
    "        :rtype: ListNode\n",
    "        \"\"\"\n",
    "        l3 = ListNode(0)\n",
    "        returnValue = l3\n",
    "        c  = 0\n",
    "                \n",
    "        while l1 and l2:\n",
    "            c, l3.val = divmod(l1.val + l2.val + l3.val, 10)\n",
    "            \n",
    "            l1 = l1.next\n",
    "            l2 = l2.next\n",
    "            \n",
    "            if l1 and l2:\n",
    "                l3.next = ListNode(c)\n",
    "                l3      = l3.next\n",
    "            elif l1 and (not l2):\n",
    "                self.carry(l1, c)                    \n",
    "                l3.next = l1\n",
    "            elif l2 and (not l1):\n",
    "                self.carry(l2, c)                    \n",
    "                l3.next = l2\n",
    "            elif not l1 and not l2:\n",
    "                if c is not 0:\n",
    "                    l3.next = ListNode(0)\n",
    "                    self.carry(l3.next, c)                    \n",
    "            \n",
    "        return returnValue"
   ]
  },
  {
   "cell_type": "code",
   "execution_count": 100,
   "metadata": {},
   "outputs": [],
   "source": [
    "class Solution:\n",
    "    def addTwoNumbers(self, l1, l2):\n",
    "        \"\"\"\n",
    "        :type l1: ListNode\n",
    "        :type l2: ListNode\n",
    "        :rtype: ListNode\n",
    "        \"\"\"\n",
    "        node = ListNode(None)\n",
    "        head = node\n",
    "        carry = 0\n",
    "        while l1 is not None or l2 is not None or carry > 0:\n",
    "            x = 0 if l1 is None else l1.val\n",
    "            y = 0 if l2 is None else l2.val\n",
    "            result = carry + x + y\n",
    "            node.val = result % 10\n",
    "            carry = (result//10) % 10\n",
    "            \n",
    "            prev = node\n",
    "            node = ListNode(None)\n",
    "            prev.next = node\n",
    "            \n",
    "            if l1 is not None:\n",
    "                l1 = l1.next\n",
    "            if l2 is not None:\n",
    "                l2 = l2.next\n",
    "        prev.next = None\n",
    "        return head"
   ]
  },
  {
   "cell_type": "code",
   "execution_count": 101,
   "metadata": {
    "scrolled": true
   },
   "outputs": [
    {
     "name": "stdout",
     "output_type": "stream",
     "text": [
      "\n",
      "5\n",
      "\n",
      "5\n",
      "\n",
      "0\n",
      "1\n"
     ]
    }
   ],
   "source": [
    "l1 = ListNode(5)\n",
    "#l1.next = ListNode(4)\n",
    "#l1.next.next = ListNode(3)\n",
    "#l1.next.next.next = ListNode(3)\n",
    "#l1.next.next.next.next = ListNode(3)\n",
    "#l1.next.next.next.next.next = ListNode(3)\n",
    "\n",
    "l2 = ListNode(5)\n",
    "#l2.next = ListNode(9)\n",
    "#l2.next.next = ListNode(4)\n",
    "#l2.next.next.next = ListNode(4)\n",
    "#l2.next.next.next.next = ListNode(4)\n",
    "#l2.next.next.next.next.next = ListNode(4)\n",
    "\n",
    "solution = Solution()\n",
    "l4 = solution.addTwoNumbers(l1, l2)\n",
    "\n",
    "print()\n",
    "\n",
    "while l1:\n",
    "    print(l1.val)\n",
    "    l1 = l1.next\n",
    "    \n",
    "print()\n",
    "    \n",
    "while l2:\n",
    "    print(l2.val)\n",
    "    l2 = l2.next\n",
    "\n",
    "print()\n",
    "    \n",
    "while l4:\n",
    "    print(l4.val)\n",
    "    l4 = l4.next"
   ]
  },
  {
   "cell_type": "code",
   "execution_count": 109,
   "metadata": {},
   "outputs": [
    {
     "data": {
      "text/plain": [
       "False"
      ]
     },
     "execution_count": 109,
     "metadata": {},
     "output_type": "execute_result"
    }
   ],
   "source": [
    "False and False"
   ]
  }
 ],
 "metadata": {
  "kernelspec": {
   "display_name": "Python 3",
   "language": "python",
   "name": "python3"
  },
  "language_info": {
   "codemirror_mode": {
    "name": "ipython",
    "version": 3
   },
   "file_extension": ".py",
   "mimetype": "text/x-python",
   "name": "python",
   "nbconvert_exporter": "python",
   "pygments_lexer": "ipython3",
   "version": "3.6.7"
  },
  "toc": {
   "base_numbering": 1,
   "nav_menu": {},
   "number_sections": true,
   "sideBar": true,
   "skip_h1_title": false,
   "title_cell": "Table of Contents",
   "title_sidebar": "Contents",
   "toc_cell": false,
   "toc_position": {},
   "toc_section_display": true,
   "toc_window_display": false
  },
  "varInspector": {
   "cols": {
    "lenName": 16,
    "lenType": 16,
    "lenVar": 40
   },
   "kernels_config": {
    "python": {
     "delete_cmd_postfix": "",
     "delete_cmd_prefix": "del ",
     "library": "var_list.py",
     "varRefreshCmd": "print(var_dic_list())"
    },
    "r": {
     "delete_cmd_postfix": ") ",
     "delete_cmd_prefix": "rm(",
     "library": "var_list.r",
     "varRefreshCmd": "cat(var_dic_list()) "
    }
   },
   "types_to_exclude": [
    "module",
    "function",
    "builtin_function_or_method",
    "instance",
    "_Feature"
   ],
   "window_display": false
  }
 },
 "nbformat": 4,
 "nbformat_minor": 2
}
