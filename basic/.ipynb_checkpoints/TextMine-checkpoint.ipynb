{
 "cells": [
  {
   "cell_type": "markdown",
   "metadata": {},
   "source": [
    "# 텍스트 지뢰찾기\n",
    "\n",
    "## 목적\n",
    "* ...\n",
    "* DFS 알고리즘으로 지뢰찾기 일부 기능을 구현한다.  \n",
    "클릭한 곳이 빈 곳일(숫자 또는 지뢰가 아닌 부분) 경우 그 주변에 연결된 빈 공간을 찾는다.(빈 공간은 숫자로 둘러쌓여 있음)  \n",
    "숫자로 둘러 쌓인 빈공간들을 구분 한다.\n",
    "* GUI가 아닌 Text로 지뢰찾기 게임을 구현 한다.\n",
    "* ..."
   ]
  },
  {
   "cell_type": "code",
   "execution_count": 1,
   "metadata": {
    "scrolled": true
   },
   "outputs": [
    {
     "name": "stdout",
     "output_type": "stream",
     "text": [
      "x y | D x y| M x y | U x y | V | S | Q ? v\n",
      "  1   2   3   4   5   6   7   8   9   0   1   2   3   4   5   6   \n",
      "1 O | O | O | O | O | O | O | O | O | O | O | O | O | O | O | O\n",
      "2 O | O | O | O | O | O | O | O | O | O | O | O | O | O | O | O\n",
      "3 O | O | O | O | O | O | O | O | O | O | O | O | O | O | O | O\n",
      "4 O | O | O | O | O | O | O | O | O | O | O | O | O | O | O | O\n",
      "5 O | O | O | O | O | O | O | O | O | O | O | O | O | O | O | O\n",
      "6 O | O | O | O | O | O | O | O | O | O | O | O | O | O | O | O\n",
      "7 O | O | O | O | O | O | O | O | O | O | O | O | O | O | O | O\n",
      "8 O | O | O | O | O | O | O | O | O | O | O | O | O | O | O | O\n",
      "9 O | O | O | O | O | O | O | O | O | O | O | O | O | O | O | O\n",
      "0 O | O | O | O | O | O | O | O | O | O | O | O | O | O | O | O\n",
      "1 O | O | O | O | O | O | O | O | O | O | O | O | O | O | O | O\n",
      "2 O | O | O | O | O | O | O | O | O | O | O | O | O | O | O | O\n",
      "3 O | O | O | O | O | O | O | O | O | O | O | O | O | O | O | O\n",
      "4 O | O | O | O | O | O | O | O | O | O | O | O | O | O | O | O\n",
      "5 O | O | O | O | O | O | O | O | O | O | O | O | O | O | O | O\n",
      "6 O | O | O | O | O | O | O | O | O | O | O | O | O | O | O | O\n",
      "x y | D x y| M x y | U x y | V | S | Q ? s\n",
      "  1   2   3   4   5   6   7   8   9   0   1   2   3   4   5   6   \n",
      "1 A | 2 | * | 2 | 1 | 2 | * | 1 | 1 | 1 | 1 | 1 | * | 1 | B | B\n",
      "2 A | 2 | * | 2 | 1 | * | 3 | 3 | 3 | * | 1 | 1 | 1 | 1 | B | B\n",
      "3 A | 1 | 1 | 1 | 1 | 1 | 2 | * | * | 3 | 1 | B | B | B | B | B\n",
      "4 A | A | A | A | A | A | 1 | 3 | * | 3 | 1 | B | B | 1 | 1 | 1\n",
      "5 A | 1 | 2 | 2 | 1 | A | A | 1 | 2 | * | 2 | 1 | 1 | 1 | * | 1\n",
      "6 A | 1 | * | * | 2 | A | A | 1 | 2 | 2 | 2 | * | 1 | 1 | 2 | 2\n",
      "7 A | 1 | 3 | * | 2 | 1 | 1 | 2 | * | 1 | 2 | 2 | 2 | 1 | 2 | *\n",
      "8 A | A | 2 | 2 | 2 | 1 | * | 3 | 2 | 2 | 2 | * | 1 | 2 | * | 3\n",
      "9 1 | 1 | 1 | * | 1 | 2 | 4 | * | 2 | 1 | * | 2 | 1 | 3 | * | 3\n",
      "0 * | 1 | 2 | 2 | 2 | 1 | * | * | 3 | 1 | 2 | 2 | 1 | 2 | * | 2\n",
      "1 1 | 1 | 1 | * | 1 | 1 | 3 | * | 3 | 2 | 2 | * | 1 | 1 | 1 | 1\n",
      "2 C | C | 2 | 2 | 2 | C | 1 | 3 | * | 3 | * | 2 | 1 | D | D | D\n",
      "3 C | C | 1 | * | 1 | C | C | 2 | * | 3 | 1 | 2 | 1 | 1 | D | D\n",
      "4 C | C | 1 | 1 | 1 | C | C | 1 | 1 | 1 | E | 2 | * | 3 | 1 | D\n",
      "5 C | C | C | C | C | C | C | C | C | C | 1 | 4 | * | * | 1 | D\n",
      "6 C | C | C | C | C | C | C | C | C | C | 1 | * | * | 3 | 1 | D\n"
     ]
    },
    {
     "ename": "KeyboardInterrupt",
     "evalue": "",
     "output_type": "error",
     "traceback": [
      "\u001b[0;31m---------------------------------------------------------------------------\u001b[0m",
      "\u001b[0;31mKeyboardInterrupt\u001b[0m                         Traceback (most recent call last)",
      "\u001b[0;32m~/anaconda3/envs/p36/lib/python3.6/site-packages/ipykernel/kernelbase.py\u001b[0m in \u001b[0;36m_input_request\u001b[0;34m(self, prompt, ident, parent, password)\u001b[0m\n\u001b[1;32m    877\u001b[0m             \u001b[0;32mtry\u001b[0m\u001b[0;34m:\u001b[0m\u001b[0;34m\u001b[0m\u001b[0;34m\u001b[0m\u001b[0m\n\u001b[0;32m--> 878\u001b[0;31m                 \u001b[0mident\u001b[0m\u001b[0;34m,\u001b[0m \u001b[0mreply\u001b[0m \u001b[0;34m=\u001b[0m \u001b[0mself\u001b[0m\u001b[0;34m.\u001b[0m\u001b[0msession\u001b[0m\u001b[0;34m.\u001b[0m\u001b[0mrecv\u001b[0m\u001b[0;34m(\u001b[0m\u001b[0mself\u001b[0m\u001b[0;34m.\u001b[0m\u001b[0mstdin_socket\u001b[0m\u001b[0;34m,\u001b[0m \u001b[0;36m0\u001b[0m\u001b[0;34m)\u001b[0m\u001b[0;34m\u001b[0m\u001b[0;34m\u001b[0m\u001b[0m\n\u001b[0m\u001b[1;32m    879\u001b[0m             \u001b[0;32mexcept\u001b[0m \u001b[0mException\u001b[0m\u001b[0;34m:\u001b[0m\u001b[0;34m\u001b[0m\u001b[0;34m\u001b[0m\u001b[0m\n",
      "\u001b[0;32m~/anaconda3/envs/p36/lib/python3.6/site-packages/jupyter_client/session.py\u001b[0m in \u001b[0;36mrecv\u001b[0;34m(self, socket, mode, content, copy)\u001b[0m\n\u001b[1;32m    802\u001b[0m         \u001b[0;32mtry\u001b[0m\u001b[0;34m:\u001b[0m\u001b[0;34m\u001b[0m\u001b[0;34m\u001b[0m\u001b[0m\n\u001b[0;32m--> 803\u001b[0;31m             \u001b[0mmsg_list\u001b[0m \u001b[0;34m=\u001b[0m \u001b[0msocket\u001b[0m\u001b[0;34m.\u001b[0m\u001b[0mrecv_multipart\u001b[0m\u001b[0;34m(\u001b[0m\u001b[0mmode\u001b[0m\u001b[0;34m,\u001b[0m \u001b[0mcopy\u001b[0m\u001b[0;34m=\u001b[0m\u001b[0mcopy\u001b[0m\u001b[0;34m)\u001b[0m\u001b[0;34m\u001b[0m\u001b[0;34m\u001b[0m\u001b[0m\n\u001b[0m\u001b[1;32m    804\u001b[0m         \u001b[0;32mexcept\u001b[0m \u001b[0mzmq\u001b[0m\u001b[0;34m.\u001b[0m\u001b[0mZMQError\u001b[0m \u001b[0;32mas\u001b[0m \u001b[0me\u001b[0m\u001b[0;34m:\u001b[0m\u001b[0;34m\u001b[0m\u001b[0;34m\u001b[0m\u001b[0m\n",
      "\u001b[0;32m~/anaconda3/envs/p36/lib/python3.6/site-packages/zmq/sugar/socket.py\u001b[0m in \u001b[0;36mrecv_multipart\u001b[0;34m(self, flags, copy, track)\u001b[0m\n\u001b[1;32m    466\u001b[0m         \"\"\"\n\u001b[0;32m--> 467\u001b[0;31m         \u001b[0mparts\u001b[0m \u001b[0;34m=\u001b[0m \u001b[0;34m[\u001b[0m\u001b[0mself\u001b[0m\u001b[0;34m.\u001b[0m\u001b[0mrecv\u001b[0m\u001b[0;34m(\u001b[0m\u001b[0mflags\u001b[0m\u001b[0;34m,\u001b[0m \u001b[0mcopy\u001b[0m\u001b[0;34m=\u001b[0m\u001b[0mcopy\u001b[0m\u001b[0;34m,\u001b[0m \u001b[0mtrack\u001b[0m\u001b[0;34m=\u001b[0m\u001b[0mtrack\u001b[0m\u001b[0;34m)\u001b[0m\u001b[0;34m]\u001b[0m\u001b[0;34m\u001b[0m\u001b[0;34m\u001b[0m\u001b[0m\n\u001b[0m\u001b[1;32m    468\u001b[0m         \u001b[0;31m# have first part already, only loop while more to receive\u001b[0m\u001b[0;34m\u001b[0m\u001b[0;34m\u001b[0m\u001b[0;34m\u001b[0m\u001b[0m\n",
      "\u001b[0;32mzmq/backend/cython/socket.pyx\u001b[0m in \u001b[0;36mzmq.backend.cython.socket.Socket.recv\u001b[0;34m()\u001b[0m\n",
      "\u001b[0;32mzmq/backend/cython/socket.pyx\u001b[0m in \u001b[0;36mzmq.backend.cython.socket.Socket.recv\u001b[0;34m()\u001b[0m\n",
      "\u001b[0;32mzmq/backend/cython/socket.pyx\u001b[0m in \u001b[0;36mzmq.backend.cython.socket._recv_copy\u001b[0;34m()\u001b[0m\n",
      "\u001b[0;32m~/anaconda3/envs/p36/lib/python3.6/site-packages/zmq/backend/cython/checkrc.pxd\u001b[0m in \u001b[0;36mzmq.backend.cython.checkrc._check_rc\u001b[0;34m()\u001b[0m\n",
      "\u001b[0;31mKeyboardInterrupt\u001b[0m: ",
      "\nDuring handling of the above exception, another exception occurred:\n",
      "\u001b[0;31mKeyboardInterrupt\u001b[0m                         Traceback (most recent call last)",
      "\u001b[0;32m<ipython-input-1-b389273321a3>\u001b[0m in \u001b[0;36m<module>\u001b[0;34m\u001b[0m\n\u001b[1;32m    181\u001b[0m \u001b[0;31m# 게임 시작\u001b[0m\u001b[0;34m\u001b[0m\u001b[0;34m\u001b[0m\u001b[0;34m\u001b[0m\u001b[0m\n\u001b[1;32m    182\u001b[0m \u001b[0;32mwhile\u001b[0m \u001b[0;32mTrue\u001b[0m\u001b[0;34m:\u001b[0m\u001b[0;34m\u001b[0m\u001b[0;34m\u001b[0m\u001b[0m\n\u001b[0;32m--> 183\u001b[0;31m     \u001b[0mcommand\u001b[0m \u001b[0;34m=\u001b[0m \u001b[0mlist\u001b[0m\u001b[0;34m(\u001b[0m\u001b[0minput\u001b[0m\u001b[0;34m(\u001b[0m\u001b[0;34m'x y | D x y| M x y | U x y | V | S | Q ? '\u001b[0m\u001b[0;34m)\u001b[0m\u001b[0;34m.\u001b[0m\u001b[0msplit\u001b[0m\u001b[0;34m(\u001b[0m\u001b[0;34m)\u001b[0m\u001b[0;34m)\u001b[0m\u001b[0;34m\u001b[0m\u001b[0;34m\u001b[0m\u001b[0m\n\u001b[0m\u001b[1;32m    184\u001b[0m \u001b[0;34m\u001b[0m\u001b[0m\n\u001b[1;32m    185\u001b[0m     \u001b[0mcommandLength\u001b[0m \u001b[0;34m=\u001b[0m \u001b[0mlen\u001b[0m\u001b[0;34m(\u001b[0m\u001b[0mcommand\u001b[0m\u001b[0;34m)\u001b[0m\u001b[0;34m\u001b[0m\u001b[0;34m\u001b[0m\u001b[0m\n",
      "\u001b[0;32m~/anaconda3/envs/p36/lib/python3.6/site-packages/ipykernel/kernelbase.py\u001b[0m in \u001b[0;36mraw_input\u001b[0;34m(self, prompt)\u001b[0m\n\u001b[1;32m    851\u001b[0m             \u001b[0mself\u001b[0m\u001b[0;34m.\u001b[0m\u001b[0m_parent_ident\u001b[0m\u001b[0;34m,\u001b[0m\u001b[0;34m\u001b[0m\u001b[0;34m\u001b[0m\u001b[0m\n\u001b[1;32m    852\u001b[0m             \u001b[0mself\u001b[0m\u001b[0;34m.\u001b[0m\u001b[0m_parent_header\u001b[0m\u001b[0;34m,\u001b[0m\u001b[0;34m\u001b[0m\u001b[0;34m\u001b[0m\u001b[0m\n\u001b[0;32m--> 853\u001b[0;31m             \u001b[0mpassword\u001b[0m\u001b[0;34m=\u001b[0m\u001b[0;32mFalse\u001b[0m\u001b[0;34m,\u001b[0m\u001b[0;34m\u001b[0m\u001b[0;34m\u001b[0m\u001b[0m\n\u001b[0m\u001b[1;32m    854\u001b[0m         )\n\u001b[1;32m    855\u001b[0m \u001b[0;34m\u001b[0m\u001b[0m\n",
      "\u001b[0;32m~/anaconda3/envs/p36/lib/python3.6/site-packages/ipykernel/kernelbase.py\u001b[0m in \u001b[0;36m_input_request\u001b[0;34m(self, prompt, ident, parent, password)\u001b[0m\n\u001b[1;32m    881\u001b[0m             \u001b[0;32mexcept\u001b[0m \u001b[0mKeyboardInterrupt\u001b[0m\u001b[0;34m:\u001b[0m\u001b[0;34m\u001b[0m\u001b[0;34m\u001b[0m\u001b[0m\n\u001b[1;32m    882\u001b[0m                 \u001b[0;31m# re-raise KeyboardInterrupt, to truncate traceback\u001b[0m\u001b[0;34m\u001b[0m\u001b[0;34m\u001b[0m\u001b[0;34m\u001b[0m\u001b[0m\n\u001b[0;32m--> 883\u001b[0;31m                 \u001b[0;32mraise\u001b[0m \u001b[0mKeyboardInterrupt\u001b[0m\u001b[0;34m\u001b[0m\u001b[0;34m\u001b[0m\u001b[0m\n\u001b[0m\u001b[1;32m    884\u001b[0m             \u001b[0;32melse\u001b[0m\u001b[0;34m:\u001b[0m\u001b[0;34m\u001b[0m\u001b[0;34m\u001b[0m\u001b[0m\n\u001b[1;32m    885\u001b[0m                 \u001b[0;32mbreak\u001b[0m\u001b[0;34m\u001b[0m\u001b[0;34m\u001b[0m\u001b[0m\n",
      "\u001b[0;31mKeyboardInterrupt\u001b[0m: "
     ]
    }
   ],
   "source": [
    "from random import shuffle\n",
    "from itertools import cycle\n",
    "\n",
    "rect = ((-1, -1), (-1, 0), (-1, 1),\n",
    "            (0, -1), (0, 1),\n",
    "            (1, -1), (1, 0), (1, 1)\n",
    "           )\n",
    "\n",
    "def showDispay(target):\n",
    "    '''상태를 화면에 표시한다'''\n",
    "    colCodi = cycle('1234567890')\n",
    "    rowCodi = cycle('1234567890')\n",
    "    \n",
    "    print('  ', end = '')\n",
    "    for _ in range(cols):\n",
    "        print(next(colCodi), end = '   ')    \n",
    "    print()\n",
    "\n",
    "    \n",
    "    for x in target:\n",
    "        print(next(rowCodi), ' | '.join(x))\n",
    "\n",
    "def countMines(row, col):\n",
    "    '''주변에 있는 지뢰 개수를 리턴한다.'''\n",
    "    count = 0\n",
    "    \n",
    "    for x, y in rect:\n",
    "        x += row \n",
    "        y += col\n",
    "        \n",
    "        if isValidCodi(x, y):\n",
    "            if minePlate[x][y] == words['realMine']:\n",
    "                count += 1\n",
    "    \n",
    "    return count\n",
    "\n",
    "def commandClick(x, y):\n",
    "    '''좌료를 클릭시 minePlate의 상태에 따라 display 상태를 변경한다'''\n",
    "    x -= 1\n",
    "    y -= 1\n",
    "    status = minePlate[x][y]\n",
    "    \n",
    "    if status == '*':\n",
    "        display[x][y] = 'X'\n",
    "        return 'fail'\n",
    "    elif '0' <= status <= '8':\n",
    "        display[x][y] = status\n",
    "    else:\n",
    "        _openSpace(status, spacePlate[status])\n",
    "        \n",
    "def commandDoubleClidk(x, y):\n",
    "    x      -= 1\n",
    "    y      -= 1\n",
    "    status  = display[x][y]\n",
    "    \n",
    "    \n",
    "    \n",
    "    realMines   = getMinesInfo(minePlate, x, y, '*')\n",
    "    markedMines = getMinesInfo(display, x, y, 'M')\n",
    "    unmaked     = getMinesInfo(display, x, y, 'O')\n",
    "    \n",
    "    if hasQuestion():\n",
    "        return\n",
    "    \n",
    "    if True:\n",
    "        pass\n",
    "    \n",
    "    else:\n",
    "        if status.isdigit():\n",
    "            if int(status) == _getMarkedMineCount():\n",
    "                pass\n",
    "\n",
    "def hasQuestion(x, y):\n",
    "    return len(getMinesInfo(display, x, y, '?')) != 0\n",
    "    \n",
    "def getMinesInfo(plate, x, y, findChar):\n",
    "    return list(filter(lambda c:(0 <= c[0] + x < rows and 0 <= c[1] + y < cols) and plate[c[0] + x][c[1] + y] == findChar, rect))    \n",
    "\n",
    "def _openSpace(mark, area):\n",
    "    '''연결된 빈공간을 display에 상태를 변경한다.'''\n",
    "    for x, y in area:\n",
    "        temp = minePlate[x][y]\n",
    "        \n",
    "        display[x][y] = words['openSpace'] if temp == mark else temp\n",
    "        \n",
    "\n",
    "def dfs(row, col):\n",
    "    '''지뢰가 없는 영역 찾기'''\n",
    "    rect = ((-1, 0), (0, -1), (0, 1), (1, 0))\n",
    "    \n",
    "    if minePlate[row][col] == words['initialChar']:\n",
    "        minePlate[row][col] = tempGroup\n",
    "        tempSpace.append((row, col))\n",
    "        \n",
    "        for x, y in rect:\n",
    "            x += row \n",
    "            y += col\n",
    "\n",
    "            if isValidCodi(x, y)z:\n",
    "                dfs(x, y)\n",
    "        \n",
    "    elif  minePlate[row][col] in words['numbers']:\n",
    "        tempSpace.append((row, col))  \n",
    "        \n",
    "def isValidCodi(x, y):\n",
    "    return 0 <= x < rows and 0 <= y < cols\n",
    "\n",
    "def showMines():\n",
    "    for x in range(rows):\n",
    "        for y in range(cols):\n",
    "            if display[x][y] == 'O' and minePlate[x][y] == '*':\n",
    "                print('*' * 10 )\n",
    "                display[x][y] = '*'\n",
    "            \n",
    "            elif display[x][y] == 'M' and minePlate[x][y] != '*':\n",
    "                display[x][y] = 'X'\n",
    "    \n",
    "    showDispay(display)\n",
    "    \n",
    "def markMine(x , y):\n",
    "    x -= 1\n",
    "    y -= 1\n",
    "    \n",
    "    if display[x][y] in 'O?':\n",
    "        display[x][y] = 'M'\n",
    "\n",
    "def unmarkMine(x,  u):\n",
    "    x -= 1\n",
    "    y -= 1\n",
    "    \n",
    "    if display[x][y] in 'M?':\n",
    "        display[x][y] = 'O'\n",
    "    \n",
    "rows       = 16 \n",
    "cols       = 16\n",
    "mines      = 40\n",
    "\n",
    "words      = {\n",
    "    'realMine'     : '*',\n",
    "    'markMine'     : 'M',\n",
    "    'space'        : 'O',\n",
    "    'openSpace'    : ' ',\n",
    "    'numbers'      : '0123456789',\n",
    "    'groups'       : 'ABCDEFGHIJKLMNOPQRSTUVWXYZ',\n",
    "    'markQuestion' : '?',\n",
    "    'initialChar'  : '#'\n",
    "}\n",
    "\n",
    "minePlate  = []\n",
    "spacePlate = {}\n",
    "display    = []\n",
    "\n",
    "\n",
    "\n",
    "# 지뢰 초기화 하기\n",
    "temp = [words['initialChar']] * (rows * cols)\n",
    "\n",
    "for x in range(mines):\n",
    "    temp[x] = words['realMine']\n",
    "    \n",
    "shuffle(temp)\n",
    "\n",
    "for x in range(rows):\n",
    "    minePlate.append(temp[x * cols:(x + 1) * cols])\n",
    "    display.append([words['space']] * cols)\n",
    "    \n",
    "# 주위에 지뢰 개수 구하기\n",
    "for row in range(rows):\n",
    "    for col in range(cols):\n",
    "        if minePlate[row][col] == words['initialChar']:\n",
    "            count = countMines(row, col)\n",
    "            minePlate[row][col] = str(count) if count != 0 else words['initialChar']\n",
    "                \n",
    "# 숫자로 둘러 쌓이 빈 공간들을 구분한다.\n",
    "mark = iter(words['groups'])\n",
    "for row in range(rows):\n",
    "    for col in range(cols):\n",
    "        if minePlate[row][col] == words['initialChar']:\n",
    "            tempSpace = []\n",
    "            tempGroup = next(mark)\n",
    "            dfs(row, col)\n",
    "            spacePlate[tempGroup] = tempSpace\n",
    "\n",
    "# 게임 시작\n",
    "while True:\n",
    "    command = list(input('x y | D x y| M x y | U x y | V | S | Q ? ').split())\n",
    "    \n",
    "    commandLength = len(command)\n",
    "    \n",
    "    # V S Q 명령\n",
    "    if commandLength == 1:\n",
    "        if command[0].lower() == 'v':   # 게임 진행 상태를 표시\n",
    "                showDispay(display)\n",
    "        elif command[0].lower() == 'q': # 게임 종료\n",
    "                break\n",
    "        elif command[0].lower() == 's': # 지뢰 및 지뢰 갯수 빈공간 영역 표시\n",
    "                showDispay(minePlate)\n",
    "    # D M U 명령            \n",
    "    elif commandLength == 3:\n",
    "        if command[0].lower() == 'd':   # 클릭\n",
    "            commandDoubleClidk(int(command[1]), int(command[2]))\n",
    "        elif command[0].lower() == 'm': # 지뢰 표시\n",
    "            markMine(int(command[1]), int(command[2]))\n",
    "        elif command[0].lower() == 'u': # 지뢰 표시 지우기 \n",
    "            unmarkMine(int(command[1]), int(command[2]))\n",
    "    elif commandLength == 2:\n",
    "        result = commandClick(int(command[0]), int(command[1]))\n",
    "        \n",
    "        if result == 'fail':\n",
    "            print('지뢰가 폭발했어요. ㅠㅠ')\n",
    "            showMines()\n",
    "            break"
   ]
  },
  {
   "cell_type": "code",
   "execution_count": 13,
   "metadata": {},
   "outputs": [
    {
     "data": {
      "text/plain": [
       "[(0, 1), (1, 1)]"
      ]
     },
     "execution_count": 13,
     "metadata": {},
     "output_type": "execute_result"
    }
   ],
   "source": [
    "getMinesInfo(minePlate, 0, 11, '*')"
   ]
  },
  {
   "cell_type": "code",
   "execution_count": 14,
   "metadata": {},
   "outputs": [
    {
     "data": {
      "text/plain": [
       "[(0, 1), (1, 1)]"
      ]
     },
     "execution_count": 14,
     "metadata": {},
     "output_type": "execute_result"
    }
   ],
   "source": [
    "getMinesInfo(display, 0, 11, 'M')"
   ]
  },
  {
   "cell_type": "code",
   "execution_count": 12,
   "metadata": {},
   "outputs": [],
   "source": [
    "def getMinesInfo(plate, x, y, findChar):\n",
    "    return list(filter(lambda c:(0 <= c[0] + x < rows and 0 <= c[1] + y < cols) and plate[c[0] + x][c[1] + y] == findChar, rect))\n"
   ]
  },
  {
   "cell_type": "code",
   "execution_count": 17,
   "metadata": {},
   "outputs": [
    {
     "data": {
      "text/plain": [
       "0"
      ]
     },
     "execution_count": 17,
     "metadata": {},
     "output_type": "execute_result"
    }
   ],
   "source": [
    "len(getMinesInfo(display, 0, 11, '1'))"
   ]
  },
  {
   "cell_type": "code",
   "execution_count": 27,
   "metadata": {},
   "outputs": [
    {
     "data": {
      "text/plain": [
       "(True, True)"
      ]
     },
     "execution_count": 27,
     "metadata": {},
     "output_type": "execute_result"
    }
   ],
   "source": [
    "a = set([1, 2, 3])\n",
    "b = set([1, 2, 3])\n",
    "\n",
    "c = list([(1, 2), (3000, 4000)])\n",
    "d = list([(1, 2), (3000, 4000)])\n",
    "\n",
    "\n",
    "a == b, c == d\n",
    "\n"
   ]
  },
  {
   "cell_type": "code",
   "execution_count": 5,
   "metadata": {},
   "outputs": [
    {
     "ename": "SyntaxError",
     "evalue": "invalid syntax (<ipython-input-5-8a6cfd6ba9ca>, line 6)",
     "output_type": "error",
     "traceback": [
      "\u001b[0;36m  File \u001b[0;32m\"<ipython-input-5-8a6cfd6ba9ca>\"\u001b[0;36m, line \u001b[0;32m6\u001b[0m\n\u001b[0;31m    'numbers'      : '0123456789',\u001b[0m\n\u001b[0m                   ^\u001b[0m\n\u001b[0;31mSyntaxError\u001b[0m\u001b[0;31m:\u001b[0m invalid syntax\n"
     ]
    }
   ],
   "source": [
    "words      = {\n",
    "    'realMine'     : '*',\n",
    "    'markMine'     : 'M',\n",
    "    'space'        : 'O',\n",
    "    'openSpace'    : ' '\n",
    "    'numbers'      : '0123456789',\n",
    "    'groups'       : 'ABCDEFGHIJKLMNOPQRSTUVWXYZ',\n",
    "    'markQuestion' : '?'\n",
    "}"
   ]
  },
  {
   "cell_type": "code",
   "execution_count": 12,
   "metadata": {},
   "outputs": [],
   "source": [
    "a = iter(mark)\n"
   ]
  },
  {
   "cell_type": "code",
   "execution_count": 24,
   "metadata": {},
   "outputs": [
    {
     "data": {
      "text/plain": [
       "'K'"
      ]
     },
     "execution_count": 24,
     "metadata": {},
     "output_type": "execute_result"
    }
   ],
   "source": [
    "next(a)"
   ]
  }
 ],
 "metadata": {
  "kernelspec": {
   "display_name": "Python 3",
   "language": "python",
   "name": "python3"
  },
  "language_info": {
   "codemirror_mode": {
    "name": "ipython",
    "version": 3
   },
   "file_extension": ".py",
   "mimetype": "text/x-python",
   "name": "python",
   "nbconvert_exporter": "python",
   "pygments_lexer": "ipython3",
   "version": "3.6.8"
  },
  "toc": {
   "base_numbering": 1,
   "nav_menu": {},
   "number_sections": true,
   "sideBar": true,
   "skip_h1_title": false,
   "title_cell": "Table of Contents",
   "title_sidebar": "Contents",
   "toc_cell": false,
   "toc_position": {},
   "toc_section_display": true,
   "toc_window_display": false
  },
  "varInspector": {
   "cols": {
    "lenName": 16,
    "lenType": 16,
    "lenVar": 40
   },
   "kernels_config": {
    "python": {
     "delete_cmd_postfix": "",
     "delete_cmd_prefix": "del ",
     "library": "var_list.py",
     "varRefreshCmd": "print(var_dic_list())"
    },
    "r": {
     "delete_cmd_postfix": ") ",
     "delete_cmd_prefix": "rm(",
     "library": "var_list.r",
     "varRefreshCmd": "cat(var_dic_list()) "
    }
   },
   "types_to_exclude": [
    "module",
    "function",
    "builtin_function_or_method",
    "instance",
    "_Feature"
   ],
   "window_display": false
  }
 },
 "nbformat": 4,
 "nbformat_minor": 2
}
